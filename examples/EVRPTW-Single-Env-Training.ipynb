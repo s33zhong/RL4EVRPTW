{
 "cells": [
  {
   "cell_type": "code",
   "execution_count": 4,
   "id": "initial_id",
   "metadata": {
    "collapsed": true,
    "ExecuteTime": {
     "end_time": "2024-11-16T03:26:20.884640Z",
     "start_time": "2024-11-16T03:26:20.767637Z"
    }
   },
   "outputs": [
    {
     "name": "stdout",
     "output_type": "stream",
     "text": [
      "The autoreload extension is already loaded. To reload it, use:\n",
      "  %reload_ext autoreload\n"
     ]
    }
   ],
   "source": [
    "%load_ext autoreload\n",
    "%autoreload 2\n",
    "\n",
    "import torch\n",
    "\n",
    "from rl4co.envs import CVRPTWEnv, EVRPTWEnv \n",
    "from rl4co.models import AttentionModelPolicy, REINFORCE, SymNCO, PPO, POMO\n",
    "from rl4co.utils.trainer import RL4COTrainer"
   ]
  },
  {
   "cell_type": "code",
   "outputs": [
    {
     "ename": "NameError",
     "evalue": "name 'torch' is not defined",
     "output_type": "error",
     "traceback": [
      "\u001B[1;31m---------------------------------------------------------------------------\u001B[0m",
      "\u001B[1;31mNameError\u001B[0m                                 Traceback (most recent call last)",
      "Cell \u001B[1;32mIn[1], line 2\u001B[0m\n\u001B[0;32m      1\u001B[0m \u001B[38;5;66;03m# Greedy rollouts over untrained policy\u001B[39;00m\n\u001B[1;32m----> 2\u001B[0m device \u001B[38;5;241m=\u001B[39m torch\u001B[38;5;241m.\u001B[39mdevice(\u001B[38;5;124m\"\u001B[39m\u001B[38;5;124mcuda\u001B[39m\u001B[38;5;124m\"\u001B[39m)\n\u001B[0;32m      3\u001B[0m \u001B[38;5;28;01mimport\u001B[39;00m \u001B[38;5;21;01mnumpy\u001B[39;00m \u001B[38;5;28;01mas\u001B[39;00m \u001B[38;5;21;01mnp\u001B[39;00m\n\u001B[0;32m      5\u001B[0m \u001B[38;5;28;01mdef\u001B[39;00m \u001B[38;5;21menforce_reproducibility\u001B[39m(seed):\n",
      "\u001B[1;31mNameError\u001B[0m: name 'torch' is not defined"
     ]
    }
   ],
   "source": [
    "# Greedy rollouts over untrained policy\n",
    "device = torch.device(\"cuda\")\n",
    "import numpy as np\n",
    "\n",
    "def enforce_reproducibility(seed):\n",
    "    np.random.seed(seed)\n",
    "    torch.manual_seed(seed)\n",
    "    if torch.cuda.is_available():\n",
    "        torch.cuda.manual_seed_all(seed)\n",
    "        torch.backends.cudnn.deterministic = True\n",
    "        torch.backends.cudnn.benchmark = False\n",
    "enforce_reproducibility(0)\n",
    "\n",
    "\n",
    "env_10 = EVRPTWEnv(generator_params={'num_loc': 10, \n",
    "                                    'num_station': 3,\n",
    "                                    'vehicle_limit': 3,\n",
    "                                    'vehicle_speed': 5,\n",
    "                                    'max_time': 0.9,\n",
    "                                    'horizon': 1.1,\n",
    "                                    'fuel_consumption_rate': 0.2,\n",
    "                                    'inverse_recharge_rate': 0.2})\n",
    "\n",
    "env_20 = EVRPTWEnv(generator_params={'num_loc': 20, \n",
    "                                  'num_station': 3,\n",
    "                                  'vehicle_limit': 3,\n",
    "                                  'vehicle_speed': 5,\n",
    "                                  'max_time': 0.9,\n",
    "                                  'horizon': 1.1,\n",
    "                                  'fuel_consumption_rate': 0.2,\n",
    "                                  'inverse_recharge_rate': 0.2})\n",
    "\n",
    "env_50 = EVRPTWEnv(generator_params={'num_loc': 50, \n",
    "                                  'num_station': 6,\n",
    "                                  'vehicle_limit': 6,\n",
    "                                  'vehicle_speed': 5,\n",
    "                                  'max_time': 0.9,\n",
    "                                  'horizon': 1.2,\n",
    "                                  'fuel_consumption_rate': 0.2,\n",
    "                                  'inverse_recharge_rate': 0.2})\n",
    "\n",
    "env_100 = EVRPTWEnv(generator_params={'num_loc': 100,\n",
    "                                    'num_station': 12,\n",
    "                                    'vehicle_limit': 12,\n",
    "                                    'vehicle_speed': 5,\n",
    "                                    'max_time': 0.9,\n",
    "                                    'horizon': 1.2,\n",
    "                                    'fuel_consumption_rate': 0.2,\n",
    "                                    'inverse_recharge_rate': 0.2})\n",
    "\n",
    "td_10_TEST = env_10.reset(batch_size=[100]).to(device)\n",
    "td_20_TEST = env_20.reset(batch_size=[100]).to(device)\n",
    "td_50_TEST = env_50.reset(batch_size=[100]).to(device)\n",
    "td_100_TEST = env_100.reset(batch_size=[100]).to(device)"
   ],
   "metadata": {
    "collapsed": false,
    "ExecuteTime": {
     "end_time": "2024-11-17T03:05:49.367367Z",
     "start_time": "2024-11-17T03:05:49.061474Z"
    }
   },
   "id": "e58a04627ea0a434",
   "execution_count": 1
  },
  {
   "cell_type": "code",
   "outputs": [
    {
     "name": "stderr",
     "output_type": "stream",
     "text": [
      "C:\\Users\\shanh\\AppData\\Roaming\\Python\\Python311\\site-packages\\lightning\\pytorch\\utilities\\parsing.py:199: Attribute 'env' is an instance of `nn.Module` and is already saved during checkpointing. It is recommended to ignore them using `self.save_hyperparameters(ignore=['env'])`.\n",
      "C:\\Users\\shanh\\AppData\\Roaming\\Python\\Python311\\site-packages\\lightning\\pytorch\\utilities\\parsing.py:199: Attribute 'policy' is an instance of `nn.Module` and is already saved during checkpointing. It is recommended to ignore them using `self.save_hyperparameters(ignore=['policy'])`.\n"
     ]
    }
   ],
   "source": [
    "# Policy: neural network, in this case with encoder-decoder architecture\n",
    "policy = AttentionModelPolicy(env_name=env_10.name,\n",
    "                              embed_dim=256,\n",
    "                              num_encoder_layers=3,\n",
    "                              num_heads=8,)\n",
    "\n",
    "model_10 = POMO(env_10,\n",
    "                policy,\n",
    "                # baseline=\"rollout\",\n",
    "                batch_size=512,\n",
    "                train_data_size=512 * 200,\n",
    "                val_data_size=512 * 50,\n",
    "                optimizer_kwargs={\"lr\": 1e-4,\n",
    "                                  \"weight_decay\": 1e-6})"
   ],
   "metadata": {
    "collapsed": false,
    "ExecuteTime": {
     "end_time": "2024-11-16T03:26:23.335683Z",
     "start_time": "2024-11-16T03:26:23.182154Z"
    }
   },
   "id": "e2b92290e4554f5c",
   "execution_count": 6
  },
  {
   "cell_type": "code",
   "outputs": [
    {
     "name": "stderr",
     "output_type": "stream",
     "text": [
      "C:\\Users\\shanh\\DataspellProjects\\rl4co\\rl4co\\models\\nn\\attention.py:128: UserWarning: 1Torch was not compiled with flash attention. (Triggered internally at ..\\aten\\src\\ATen\\native\\transformers\\cuda\\sdp_utils.cpp:263.)\n",
      "  out = self.sdpa_fn(\n"
     ]
    },
    {
     "name": "stdout",
     "output_type": "stream",
     "text": [
      "Scale: 10 | Mean Untrained Test Cost: 13.126696\n",
      "Scale: 20 | Mean Untrained Test Cost: 27.022886\n",
      "Scale: 50 | Mean Untrained Test Cost: 52.758595\n",
      "Scale: 100 | Mean Untrained Test Cost: 94.450882\n"
     ]
    }
   ],
   "source": [
    "# Greedy rollouts over untrained policy\n",
    "device = torch.device(\"cuda\")\n",
    "\n",
    "policy = policy.to(device)\n",
    "out_10 = policy(td_10_TEST.clone(), env=env_10, phase=\"test\", decode_type=\"greedy\", return_actions=True)\n",
    "out_20 = policy(td_20_TEST.clone(), env=env_20, phase=\"test\", decode_type=\"greedy\", return_actions=True)\n",
    "out_50 = policy(td_50_TEST.clone(), env=env_50, phase=\"test\", decode_type=\"greedy\", return_actions=True)\n",
    "out_100 = policy(td_100_TEST.clone(), env=env_100, phase=\"test\", decode_type=\"greedy\", return_actions=True)\n",
    "\n",
    "rewards_untrained_10 = out_10['reward'].cpu().numpy()\n",
    "rewards_untrained_20 = out_20['reward'].cpu().numpy()\n",
    "rewards_untrained_50 = out_50['reward'].cpu().numpy()\n",
    "rewards_untrained_100 = out_100['reward'].cpu().numpy()\n",
    "rewards = [rewards_untrained_10, rewards_untrained_20, rewards_untrained_50, rewards_untrained_100]\n",
    "\n",
    "scale = [10, 20, 50, 100]\n",
    "for i in range(4):\n",
    "    print(f\"Scale: {scale[i]} | Mean Untrained Test Cost: {-rewards[i].mean():3f}\")"
   ],
   "metadata": {
    "collapsed": false,
    "ExecuteTime": {
     "end_time": "2024-11-16T03:26:30.600988Z",
     "start_time": "2024-11-16T03:26:26.873965Z"
    }
   },
   "id": "6114690c450fabd2",
   "execution_count": 7
  },
  {
   "cell_type": "code",
   "outputs": [],
   "source": [
    "del out_10, out_20, out_50, out_100\n",
    "torch.cuda.empty_cache()"
   ],
   "metadata": {
    "collapsed": false,
    "ExecuteTime": {
     "end_time": "2024-11-16T03:26:40.435527Z",
     "start_time": "2024-11-16T03:26:39.778450Z"
    }
   },
   "id": "793fd2acc2f8ce94",
   "execution_count": 8
  },
  {
   "cell_type": "code",
   "outputs": [
    {
     "name": "stderr",
     "output_type": "stream",
     "text": [
      "Using 16bit Automatic Mixed Precision (AMP)\n",
      "GPU available: True (cuda), used: True\n",
      "TPU available: False, using: 0 TPU cores\n",
      "IPU available: False, using: 0 IPUs\n",
      "HPU available: False, using: 0 HPUs\n",
      "val_file not set. Generating dataset instead\n",
      "test_file not set. Generating dataset instead\n",
      "LOCAL_RANK: 0 - CUDA_VISIBLE_DEVICES: [0]\n",
      "\n",
      "  | Name     | Type                 | Params\n",
      "--------------------------------------------------\n",
      "0 | env      | EVRPTWEnv            | 0     \n",
      "1 | policy   | AttentionModelPolicy | 2.0 M \n",
      "2 | baseline | SharedBaseline       | 0     \n",
      "--------------------------------------------------\n",
      "2.0 M     Trainable params\n",
      "0         Non-trainable params\n",
      "2.0 M     Total params\n",
      "7.914     Total estimated model params size (MB)\n"
     ]
    },
    {
     "data": {
      "text/plain": "Sanity Checking: |          | 0/? [00:00<?, ?it/s]",
      "application/vnd.jupyter.widget-view+json": {
       "version_major": 2,
       "version_minor": 0,
       "model_id": "ffa333e853094849889459dabf546e75"
      }
     },
     "metadata": {},
     "output_type": "display_data"
    },
    {
     "name": "stderr",
     "output_type": "stream",
     "text": [
      "C:\\Users\\shanh\\AppData\\Roaming\\Python\\Python311\\site-packages\\lightning\\pytorch\\trainer\\connectors\\data_connector.py:441: The 'val_dataloader' does not have many workers which may be a bottleneck. Consider increasing the value of the `num_workers` argument` to `num_workers=23` in the `DataLoader` to improve performance.\n",
      "C:\\Users\\shanh\\AppData\\Roaming\\Python\\Python311\\site-packages\\lightning\\pytorch\\trainer\\connectors\\data_connector.py:441: The 'train_dataloader' does not have many workers which may be a bottleneck. Consider increasing the value of the `num_workers` argument` to `num_workers=23` in the `DataLoader` to improve performance.\n"
     ]
    },
    {
     "data": {
      "text/plain": "Training: |          | 0/? [00:00<?, ?it/s]",
      "application/vnd.jupyter.widget-view+json": {
       "version_major": 2,
       "version_minor": 0,
       "model_id": "6f8c0567718b41cf87c204350ed46c7e"
      }
     },
     "metadata": {},
     "output_type": "display_data"
    },
    {
     "data": {
      "text/plain": "Validation: |          | 0/? [00:00<?, ?it/s]",
      "application/vnd.jupyter.widget-view+json": {
       "version_major": 2,
       "version_minor": 0,
       "model_id": "05ae715a66f542a68bd107494bfed6d2"
      }
     },
     "metadata": {},
     "output_type": "display_data"
    },
    {
     "data": {
      "text/plain": "Validation: |          | 0/? [00:00<?, ?it/s]",
      "application/vnd.jupyter.widget-view+json": {
       "version_major": 2,
       "version_minor": 0,
       "model_id": "79d0c217070f4972999d57b60efd6856"
      }
     },
     "metadata": {},
     "output_type": "display_data"
    },
    {
     "data": {
      "text/plain": "Validation: |          | 0/? [00:00<?, ?it/s]",
      "application/vnd.jupyter.widget-view+json": {
       "version_major": 2,
       "version_minor": 0,
       "model_id": "839c8c64209d4b16b42eba7cc39ab433"
      }
     },
     "metadata": {},
     "output_type": "display_data"
    },
    {
     "data": {
      "text/plain": "Validation: |          | 0/? [00:00<?, ?it/s]",
      "application/vnd.jupyter.widget-view+json": {
       "version_major": 2,
       "version_minor": 0,
       "model_id": "4e82435169074e058e67c8a249cb584b"
      }
     },
     "metadata": {},
     "output_type": "display_data"
    },
    {
     "data": {
      "text/plain": "Validation: |          | 0/? [00:00<?, ?it/s]",
      "application/vnd.jupyter.widget-view+json": {
       "version_major": 2,
       "version_minor": 0,
       "model_id": "3a3d88a23238458e9e24a7dd29ad21d3"
      }
     },
     "metadata": {},
     "output_type": "display_data"
    },
    {
     "data": {
      "text/plain": "Validation: |          | 0/? [00:00<?, ?it/s]",
      "application/vnd.jupyter.widget-view+json": {
       "version_major": 2,
       "version_minor": 0,
       "model_id": "6a1992a193b04148ab7c33e2eaf87cfd"
      }
     },
     "metadata": {},
     "output_type": "display_data"
    },
    {
     "data": {
      "text/plain": "Validation: |          | 0/? [00:00<?, ?it/s]",
      "application/vnd.jupyter.widget-view+json": {
       "version_major": 2,
       "version_minor": 0,
       "model_id": "3145cb29ac064edca07e5713455ff4ee"
      }
     },
     "metadata": {},
     "output_type": "display_data"
    },
    {
     "data": {
      "text/plain": "Validation: |          | 0/? [00:00<?, ?it/s]",
      "application/vnd.jupyter.widget-view+json": {
       "version_major": 2,
       "version_minor": 0,
       "model_id": "969d30575b7d461fb93fb20c1ef6b53c"
      }
     },
     "metadata": {},
     "output_type": "display_data"
    },
    {
     "data": {
      "text/plain": "Validation: |          | 0/? [00:00<?, ?it/s]",
      "application/vnd.jupyter.widget-view+json": {
       "version_major": 2,
       "version_minor": 0,
       "model_id": "19081023dd564b37a7e9b8707aaae424"
      }
     },
     "metadata": {},
     "output_type": "display_data"
    },
    {
     "data": {
      "text/plain": "Validation: |          | 0/? [00:00<?, ?it/s]",
      "application/vnd.jupyter.widget-view+json": {
       "version_major": 2,
       "version_minor": 0,
       "model_id": "aaeeebe53e7e47b586f7875e46ea2763"
      }
     },
     "metadata": {},
     "output_type": "display_data"
    },
    {
     "name": "stderr",
     "output_type": "stream",
     "text": [
      "`Trainer.fit` stopped: `max_epochs=10` reached.\n"
     ]
    }
   ],
   "source": [
    "trainer = RL4COTrainer(\n",
    "    max_epochs=10,\n",
    "    accelerator=\"gpu\",\n",
    "    devices=1,\n",
    "    logger=None,\n",
    ")\n",
    "trainer.fit(model_10)"
   ],
   "metadata": {
    "collapsed": false,
    "ExecuteTime": {
     "end_time": "2024-11-16T03:32:07.686820Z",
     "start_time": "2024-11-16T03:26:49.235482Z"
    }
   },
   "id": "bf2fe2a662bdceb0",
   "execution_count": 9
  },
  {
   "cell_type": "code",
   "outputs": [
    {
     "name": "stdout",
     "output_type": "stream",
     "text": [
      "Trained 10 Epochs with Environment of C=10, S=3, EV=3\n",
      "Scale: 10 | Mean Trained Test Cost: 5.365315\n",
      "Scale: 20 | Mean Trained Test Cost: 9.085166\n",
      "Scale: 50 | Mean Trained Test Cost: 20.450037\n",
      "Scale: 100 | Mean Trained Test Cost: 38.277969\n"
     ]
    }
   ],
   "source": [
    "# Greedy rollouts over untrained policy\n",
    "device = torch.device(\"cuda\")\n",
    "\n",
    "policy = policy.to(device)\n",
    "out_10 = policy(td_10_TEST.clone(), env=env_10, phase=\"test\", decode_type=\"greedy\", return_actions=True)\n",
    "out_20 = policy(td_20_TEST.clone(), env=env_20, phase=\"test\", decode_type=\"greedy\", return_actions=True)\n",
    "out_50 = policy(td_50_TEST.clone(), env=env_50, phase=\"test\", decode_type=\"greedy\", return_actions=True)\n",
    "out_100 = policy(td_100_TEST.clone(), env=env_100, phase=\"test\", decode_type=\"greedy\", return_actions=True)\n",
    "\n",
    "rewards_trained_10 = out_10['reward'].cpu().numpy()\n",
    "rewards_trained_20 = out_20['reward'].cpu().numpy()\n",
    "rewards_trained_50 = out_50['reward'].cpu().numpy()\n",
    "rewards_trained_100 = out_100['reward'].cpu().numpy()\n",
    "rewards_trained = [rewards_trained_10, rewards_trained_20, rewards_trained_50, rewards_trained_100]\n",
    "\n",
    "scale = [10, 20, 50, 100]\n",
    "print(\"Trained 10 Epochs with Environment of C=10, S=3, EV=3\")\n",
    "for i in range(4):\n",
    "    print(f\"Scale: {scale[i]} | Mean Trained Test Cost: {-rewards_trained[i].mean():3f}\")"
   ],
   "metadata": {
    "collapsed": false,
    "ExecuteTime": {
     "end_time": "2024-11-16T03:32:08.822069Z",
     "start_time": "2024-11-16T03:32:07.708643Z"
    }
   },
   "id": "51cb7d03ad3e1978",
   "execution_count": 10
  },
  {
   "cell_type": "code",
   "outputs": [],
   "source": [
    "del out_10, out_20, out_50, out_100\n",
    "torch.cuda.empty_cache()"
   ],
   "metadata": {
    "collapsed": false,
    "ExecuteTime": {
     "end_time": "2024-11-16T03:32:09.028388Z",
     "start_time": "2024-11-16T03:32:08.822069Z"
    }
   },
   "id": "1421b09242b507ae",
   "execution_count": 11
  },
  {
   "cell_type": "code",
   "outputs": [
    {
     "name": "stderr",
     "output_type": "stream",
     "text": [
      "Using 16bit Automatic Mixed Precision (AMP)\n",
      "GPU available: True (cuda), used: True\n",
      "TPU available: False, using: 0 TPU cores\n",
      "IPU available: False, using: 0 IPUs\n",
      "HPU available: False, using: 0 HPUs\n",
      "val_file not set. Generating dataset instead\n",
      "test_file not set. Generating dataset instead\n",
      "LOCAL_RANK: 0 - CUDA_VISIBLE_DEVICES: [0]\n",
      "\n",
      "  | Name     | Type                 | Params\n",
      "--------------------------------------------------\n",
      "0 | env      | EVRPTWEnv            | 0     \n",
      "1 | policy   | AttentionModelPolicy | 2.0 M \n",
      "2 | baseline | SharedBaseline       | 0     \n",
      "--------------------------------------------------\n",
      "2.0 M     Trainable params\n",
      "0         Non-trainable params\n",
      "2.0 M     Total params\n",
      "7.914     Total estimated model params size (MB)\n"
     ]
    },
    {
     "data": {
      "text/plain": "Sanity Checking: |          | 0/? [00:00<?, ?it/s]",
      "application/vnd.jupyter.widget-view+json": {
       "version_major": 2,
       "version_minor": 0,
       "model_id": "f98ce3e8892540a6b1b161459da50f2f"
      }
     },
     "metadata": {},
     "output_type": "display_data"
    },
    {
     "data": {
      "text/plain": "Training: |          | 0/? [00:00<?, ?it/s]",
      "application/vnd.jupyter.widget-view+json": {
       "version_major": 2,
       "version_minor": 0,
       "model_id": "fdbf8b82923f4d21b7f67ac439c97728"
      }
     },
     "metadata": {},
     "output_type": "display_data"
    },
    {
     "data": {
      "text/plain": "Validation: |          | 0/? [00:00<?, ?it/s]",
      "application/vnd.jupyter.widget-view+json": {
       "version_major": 2,
       "version_minor": 0,
       "model_id": "afc6ba1c91694be09e11e323de8d64e5"
      }
     },
     "metadata": {},
     "output_type": "display_data"
    },
    {
     "data": {
      "text/plain": "Validation: |          | 0/? [00:00<?, ?it/s]",
      "application/vnd.jupyter.widget-view+json": {
       "version_major": 2,
       "version_minor": 0,
       "model_id": "0e065ca5e9d44e55bcb466f50f741762"
      }
     },
     "metadata": {},
     "output_type": "display_data"
    },
    {
     "data": {
      "text/plain": "Validation: |          | 0/? [00:00<?, ?it/s]",
      "application/vnd.jupyter.widget-view+json": {
       "version_major": 2,
       "version_minor": 0,
       "model_id": "360c93527752463b99d4438ec7b45cce"
      }
     },
     "metadata": {},
     "output_type": "display_data"
    },
    {
     "data": {
      "text/plain": "Validation: |          | 0/? [00:00<?, ?it/s]",
      "application/vnd.jupyter.widget-view+json": {
       "version_major": 2,
       "version_minor": 0,
       "model_id": "de87a554f8fe45908b6b7f84ac63f2ba"
      }
     },
     "metadata": {},
     "output_type": "display_data"
    },
    {
     "data": {
      "text/plain": "Validation: |          | 0/? [00:00<?, ?it/s]",
      "application/vnd.jupyter.widget-view+json": {
       "version_major": 2,
       "version_minor": 0,
       "model_id": "a9f553328f7a41ffa1b97be354c19d68"
      }
     },
     "metadata": {},
     "output_type": "display_data"
    },
    {
     "data": {
      "text/plain": "Validation: |          | 0/? [00:00<?, ?it/s]",
      "application/vnd.jupyter.widget-view+json": {
       "version_major": 2,
       "version_minor": 0,
       "model_id": "1edb62e111cc498388fc0031d3b87582"
      }
     },
     "metadata": {},
     "output_type": "display_data"
    },
    {
     "data": {
      "text/plain": "Validation: |          | 0/? [00:00<?, ?it/s]",
      "application/vnd.jupyter.widget-view+json": {
       "version_major": 2,
       "version_minor": 0,
       "model_id": "17c0a72a4199400db91a8b10b8f83364"
      }
     },
     "metadata": {},
     "output_type": "display_data"
    },
    {
     "data": {
      "text/plain": "Validation: |          | 0/? [00:00<?, ?it/s]",
      "application/vnd.jupyter.widget-view+json": {
       "version_major": 2,
       "version_minor": 0,
       "model_id": "88c0477c68b34ad499f7013f5f9939d1"
      }
     },
     "metadata": {},
     "output_type": "display_data"
    },
    {
     "data": {
      "text/plain": "Validation: |          | 0/? [00:00<?, ?it/s]",
      "application/vnd.jupyter.widget-view+json": {
       "version_major": 2,
       "version_minor": 0,
       "model_id": "ce61b925c2d74bfa8f42709ab5de1030"
      }
     },
     "metadata": {},
     "output_type": "display_data"
    },
    {
     "data": {
      "text/plain": "Validation: |          | 0/? [00:00<?, ?it/s]",
      "application/vnd.jupyter.widget-view+json": {
       "version_major": 2,
       "version_minor": 0,
       "model_id": "ac52fcaa7473426eb5fdc371fe5c8df3"
      }
     },
     "metadata": {},
     "output_type": "display_data"
    },
    {
     "name": "stderr",
     "output_type": "stream",
     "text": [
      "`Trainer.fit` stopped: `max_epochs=10` reached.\n"
     ]
    }
   ],
   "source": [
    "trainer_STEP2 = RL4COTrainer(\n",
    "    max_epochs=10,\n",
    "    accelerator=\"gpu\",\n",
    "    devices=1,\n",
    "    logger=None,\n",
    ")\n",
    "trainer_STEP2.fit(model_10)"
   ],
   "metadata": {
    "collapsed": false,
    "ExecuteTime": {
     "end_time": "2024-11-16T03:37:26.419099Z",
     "start_time": "2024-11-16T03:32:09.029398Z"
    }
   },
   "id": "5720b863b4964746",
   "execution_count": 12
  },
  {
   "cell_type": "code",
   "outputs": [
    {
     "name": "stdout",
     "output_type": "stream",
     "text": [
      "Trained 20 Epochs with Environment of C=10, S=3, EV=3\n",
      "Scale: 10 | Mean Trained Test Cost: 5.322504\n",
      "Scale: 20 | Mean Trained Test Cost: 9.078220\n",
      "Scale: 50 | Mean Trained Test Cost: 20.457903\n",
      "Scale: 100 | Mean Trained Test Cost: 38.042450\n"
     ]
    }
   ],
   "source": [
    "device = torch.device(\"cuda\")\n",
    "\n",
    "policy = policy.to(device)\n",
    "out_10 = policy(td_10_TEST.clone(), env=env_10, phase=\"test\", decode_type=\"greedy\", return_actions=True)\n",
    "out_20 = policy(td_20_TEST.clone(), env=env_20, phase=\"test\", decode_type=\"greedy\", return_actions=True)\n",
    "out_50 = policy(td_50_TEST.clone(), env=env_50, phase=\"test\", decode_type=\"greedy\", return_actions=True)\n",
    "out_100 = policy(td_100_TEST.clone(), env=env_100, phase=\"test\", decode_type=\"greedy\", return_actions=True)\n",
    "\n",
    "rewards_trained_10 = out_10['reward'].cpu().numpy()\n",
    "rewards_trained_20 = out_20['reward'].cpu().numpy()\n",
    "rewards_trained_50 = out_50['reward'].cpu().numpy()\n",
    "rewards_trained_100 = out_100['reward'].cpu().numpy()\n",
    "rewards_trained = [rewards_trained_10, rewards_trained_20, rewards_trained_50, rewards_trained_100]\n",
    "\n",
    "scale = [10, 20, 50, 100]\n",
    "print(\"Trained 20 Epochs with Environment of C=10, S=3, EV=3\")\n",
    "for i in range(4):\n",
    "    print(f\"Scale: {scale[i]} | Mean Trained Test Cost: {-rewards_trained[i].mean():3f}\")"
   ],
   "metadata": {
    "collapsed": false,
    "ExecuteTime": {
     "end_time": "2024-11-16T03:37:27.549657Z",
     "start_time": "2024-11-16T03:37:26.419099Z"
    }
   },
   "id": "3027b8d8a720b2b7",
   "execution_count": 13
  },
  {
   "cell_type": "code",
   "outputs": [],
   "source": [
    "del out_10, out_20, out_50, out_100\n",
    "torch.cuda.empty_cache()"
   ],
   "metadata": {
    "collapsed": false,
    "ExecuteTime": {
     "end_time": "2024-11-16T03:37:27.751280Z",
     "start_time": "2024-11-16T03:37:27.549657Z"
    }
   },
   "id": "d38a1f4b60459ee3",
   "execution_count": 14
  },
  {
   "cell_type": "code",
   "outputs": [
    {
     "name": "stderr",
     "output_type": "stream",
     "text": [
      "Using 16bit Automatic Mixed Precision (AMP)\n",
      "GPU available: True (cuda), used: True\n",
      "TPU available: False, using: 0 TPU cores\n",
      "IPU available: False, using: 0 IPUs\n",
      "HPU available: False, using: 0 HPUs\n",
      "val_file not set. Generating dataset instead\n",
      "test_file not set. Generating dataset instead\n",
      "LOCAL_RANK: 0 - CUDA_VISIBLE_DEVICES: [0]\n",
      "\n",
      "  | Name     | Type                 | Params\n",
      "--------------------------------------------------\n",
      "0 | env      | EVRPTWEnv            | 0     \n",
      "1 | policy   | AttentionModelPolicy | 2.0 M \n",
      "2 | baseline | SharedBaseline       | 0     \n",
      "--------------------------------------------------\n",
      "2.0 M     Trainable params\n",
      "0         Non-trainable params\n",
      "2.0 M     Total params\n",
      "7.914     Total estimated model params size (MB)\n"
     ]
    },
    {
     "data": {
      "text/plain": "Sanity Checking: |          | 0/? [00:00<?, ?it/s]",
      "application/vnd.jupyter.widget-view+json": {
       "version_major": 2,
       "version_minor": 0,
       "model_id": "6add594d7c9542ad86ed677de3500df6"
      }
     },
     "metadata": {},
     "output_type": "display_data"
    },
    {
     "data": {
      "text/plain": "Training: |          | 0/? [00:00<?, ?it/s]",
      "application/vnd.jupyter.widget-view+json": {
       "version_major": 2,
       "version_minor": 0,
       "model_id": "15e554bf213d4441b65bba825a2e87c4"
      }
     },
     "metadata": {},
     "output_type": "display_data"
    },
    {
     "data": {
      "text/plain": "Validation: |          | 0/? [00:00<?, ?it/s]",
      "application/vnd.jupyter.widget-view+json": {
       "version_major": 2,
       "version_minor": 0,
       "model_id": "cc447b1f6d1f43bfa938b8069e5d7e98"
      }
     },
     "metadata": {},
     "output_type": "display_data"
    },
    {
     "data": {
      "text/plain": "Validation: |          | 0/? [00:00<?, ?it/s]",
      "application/vnd.jupyter.widget-view+json": {
       "version_major": 2,
       "version_minor": 0,
       "model_id": "4a2dbada916f44e782987f62172c8ef3"
      }
     },
     "metadata": {},
     "output_type": "display_data"
    },
    {
     "data": {
      "text/plain": "Validation: |          | 0/? [00:00<?, ?it/s]",
      "application/vnd.jupyter.widget-view+json": {
       "version_major": 2,
       "version_minor": 0,
       "model_id": "77bc79e751f14770b60e51acac891a04"
      }
     },
     "metadata": {},
     "output_type": "display_data"
    },
    {
     "data": {
      "text/plain": "Validation: |          | 0/? [00:00<?, ?it/s]",
      "application/vnd.jupyter.widget-view+json": {
       "version_major": 2,
       "version_minor": 0,
       "model_id": "618b42b7e65649d48e838faa672e6da3"
      }
     },
     "metadata": {},
     "output_type": "display_data"
    },
    {
     "data": {
      "text/plain": "Validation: |          | 0/? [00:00<?, ?it/s]",
      "application/vnd.jupyter.widget-view+json": {
       "version_major": 2,
       "version_minor": 0,
       "model_id": "fcd66b74842a4967815665b341ca4b3b"
      }
     },
     "metadata": {},
     "output_type": "display_data"
    },
    {
     "data": {
      "text/plain": "Validation: |          | 0/? [00:00<?, ?it/s]",
      "application/vnd.jupyter.widget-view+json": {
       "version_major": 2,
       "version_minor": 0,
       "model_id": "6f0cae02d00e48238d751e197474b5c8"
      }
     },
     "metadata": {},
     "output_type": "display_data"
    },
    {
     "data": {
      "text/plain": "Validation: |          | 0/? [00:00<?, ?it/s]",
      "application/vnd.jupyter.widget-view+json": {
       "version_major": 2,
       "version_minor": 0,
       "model_id": "b00cb2dcc33d472491495ace86e3128c"
      }
     },
     "metadata": {},
     "output_type": "display_data"
    },
    {
     "data": {
      "text/plain": "Validation: |          | 0/? [00:00<?, ?it/s]",
      "application/vnd.jupyter.widget-view+json": {
       "version_major": 2,
       "version_minor": 0,
       "model_id": "7621095f2c3747e88e87dcb97b9b0a22"
      }
     },
     "metadata": {},
     "output_type": "display_data"
    },
    {
     "data": {
      "text/plain": "Validation: |          | 0/? [00:00<?, ?it/s]",
      "application/vnd.jupyter.widget-view+json": {
       "version_major": 2,
       "version_minor": 0,
       "model_id": "796f496a7c6c4566988a4c2e56456a1c"
      }
     },
     "metadata": {},
     "output_type": "display_data"
    },
    {
     "data": {
      "text/plain": "Validation: |          | 0/? [00:00<?, ?it/s]",
      "application/vnd.jupyter.widget-view+json": {
       "version_major": 2,
       "version_minor": 0,
       "model_id": "fb09ed3bea8142c88d9823815f3864be"
      }
     },
     "metadata": {},
     "output_type": "display_data"
    },
    {
     "name": "stderr",
     "output_type": "stream",
     "text": [
      "`Trainer.fit` stopped: `max_epochs=10` reached.\n"
     ]
    }
   ],
   "source": [
    "trainer_STEP3 = RL4COTrainer(\n",
    "    max_epochs=10,\n",
    "    accelerator=\"gpu\",\n",
    "    devices=1,\n",
    "    logger=None,\n",
    ")\n",
    "trainer_STEP3.fit(model_10)"
   ],
   "metadata": {
    "collapsed": false,
    "ExecuteTime": {
     "end_time": "2024-11-16T03:42:46.712436Z",
     "start_time": "2024-11-16T03:37:27.752284Z"
    }
   },
   "id": "400779ce7b643d55",
   "execution_count": 15
  },
  {
   "cell_type": "code",
   "outputs": [
    {
     "name": "stdout",
     "output_type": "stream",
     "text": [
      "Trained 30 Epochs with Environment of C=10, S=3, EV=3\n",
      "Scale: 10 | Mean Trained Test Cost: 5.310370\n",
      "Scale: 20 | Mean Trained Test Cost: 8.988823\n",
      "Scale: 50 | Mean Trained Test Cost: 20.321991\n",
      "Scale: 100 | Mean Trained Test Cost: 37.930580\n"
     ]
    }
   ],
   "source": [
    "# Greedy rollouts over untrained policy\n",
    "device = torch.device(\"cuda\")\n",
    "\n",
    "policy = policy.to(device)\n",
    "out_10 = policy(td_10_TEST.clone(), env=env_10, phase=\"test\", decode_type=\"greedy\", return_actions=True)\n",
    "out_20 = policy(td_20_TEST.clone(), env=env_20, phase=\"test\", decode_type=\"greedy\", return_actions=True)\n",
    "out_50 = policy(td_50_TEST.clone(), env=env_50, phase=\"test\", decode_type=\"greedy\", return_actions=True)\n",
    "out_100 = policy(td_100_TEST.clone(), env=env_100, phase=\"test\", decode_type=\"greedy\", return_actions=True)\n",
    "\n",
    "rewards_trained_10 = out_10['reward'].cpu().numpy()\n",
    "rewards_trained_20 = out_20['reward'].cpu().numpy()\n",
    "rewards_trained_50 = out_50['reward'].cpu().numpy()\n",
    "rewards_trained_100 = out_100['reward'].cpu().numpy()\n",
    "rewards_trained = [rewards_trained_10, rewards_trained_20, rewards_trained_50, rewards_trained_100]\n",
    "\n",
    "scale = [10, 20, 50, 100]\n",
    "print(\"Trained 30 Epochs with Environment of C=10, S=3, EV=3\")\n",
    "for i in range(4):\n",
    "    print(f\"Scale: {scale[i]} | Mean Trained Test Cost: {-rewards_trained[i].mean():3f}\")"
   ],
   "metadata": {
    "collapsed": false,
    "ExecuteTime": {
     "end_time": "2024-11-16T04:18:26.227626Z",
     "start_time": "2024-11-16T04:18:24.252974Z"
    }
   },
   "id": "d5dce37ab6e92f8c",
   "execution_count": 18
  },
  {
   "cell_type": "code",
   "outputs": [],
   "source": [
    "del out_10, out_20, out_50, out_100\n",
    "torch.cuda.empty_cache()"
   ],
   "metadata": {
    "collapsed": false,
    "ExecuteTime": {
     "end_time": "2024-11-16T04:18:37.380038Z",
     "start_time": "2024-11-16T04:18:36.824818Z"
    }
   },
   "id": "ffb82570cc0b9cad",
   "execution_count": 19
  },
  {
   "cell_type": "code",
   "outputs": [
    {
     "name": "stderr",
     "output_type": "stream",
     "text": [
      "Using 16bit Automatic Mixed Precision (AMP)\n",
      "GPU available: True (cuda), used: True\n",
      "TPU available: False, using: 0 TPU cores\n",
      "IPU available: False, using: 0 IPUs\n",
      "HPU available: False, using: 0 HPUs\n",
      "val_file not set. Generating dataset instead\n",
      "test_file not set. Generating dataset instead\n",
      "LOCAL_RANK: 0 - CUDA_VISIBLE_DEVICES: [0]\n",
      "\n",
      "  | Name     | Type                 | Params\n",
      "--------------------------------------------------\n",
      "0 | env      | EVRPTWEnv            | 0     \n",
      "1 | policy   | AttentionModelPolicy | 2.0 M \n",
      "2 | baseline | SharedBaseline       | 0     \n",
      "--------------------------------------------------\n",
      "2.0 M     Trainable params\n",
      "0         Non-trainable params\n",
      "2.0 M     Total params\n",
      "7.914     Total estimated model params size (MB)\n"
     ]
    },
    {
     "data": {
      "text/plain": "Sanity Checking: |          | 0/? [00:00<?, ?it/s]",
      "application/vnd.jupyter.widget-view+json": {
       "version_major": 2,
       "version_minor": 0,
       "model_id": "71bbafbe3d6b4cb7a15422d7afd0c9af"
      }
     },
     "metadata": {},
     "output_type": "display_data"
    },
    {
     "data": {
      "text/plain": "Training: |          | 0/? [00:00<?, ?it/s]",
      "application/vnd.jupyter.widget-view+json": {
       "version_major": 2,
       "version_minor": 0,
       "model_id": "62a8aff0e776452e9d6a61bc0df30fc9"
      }
     },
     "metadata": {},
     "output_type": "display_data"
    },
    {
     "data": {
      "text/plain": "Validation: |          | 0/? [00:00<?, ?it/s]",
      "application/vnd.jupyter.widget-view+json": {
       "version_major": 2,
       "version_minor": 0,
       "model_id": "c3f9ad950819411486e0e4507655ae30"
      }
     },
     "metadata": {},
     "output_type": "display_data"
    },
    {
     "data": {
      "text/plain": "Validation: |          | 0/? [00:00<?, ?it/s]",
      "application/vnd.jupyter.widget-view+json": {
       "version_major": 2,
       "version_minor": 0,
       "model_id": "0619f1df863f4080a58ef35aecf33484"
      }
     },
     "metadata": {},
     "output_type": "display_data"
    },
    {
     "data": {
      "text/plain": "Validation: |          | 0/? [00:00<?, ?it/s]",
      "application/vnd.jupyter.widget-view+json": {
       "version_major": 2,
       "version_minor": 0,
       "model_id": "3a3cba4202be4597bf49550e7afed0fc"
      }
     },
     "metadata": {},
     "output_type": "display_data"
    },
    {
     "data": {
      "text/plain": "Validation: |          | 0/? [00:00<?, ?it/s]",
      "application/vnd.jupyter.widget-view+json": {
       "version_major": 2,
       "version_minor": 0,
       "model_id": "ab482197c27a4fca963f9db0e786e70c"
      }
     },
     "metadata": {},
     "output_type": "display_data"
    },
    {
     "data": {
      "text/plain": "Validation: |          | 0/? [00:00<?, ?it/s]",
      "application/vnd.jupyter.widget-view+json": {
       "version_major": 2,
       "version_minor": 0,
       "model_id": "883dbf8bfcb841d2b4929bfa81f7733b"
      }
     },
     "metadata": {},
     "output_type": "display_data"
    },
    {
     "data": {
      "text/plain": "Validation: |          | 0/? [00:00<?, ?it/s]",
      "application/vnd.jupyter.widget-view+json": {
       "version_major": 2,
       "version_minor": 0,
       "model_id": "4583cca7bb4746d98fe0fbab582c0697"
      }
     },
     "metadata": {},
     "output_type": "display_data"
    },
    {
     "data": {
      "text/plain": "Validation: |          | 0/? [00:00<?, ?it/s]",
      "application/vnd.jupyter.widget-view+json": {
       "version_major": 2,
       "version_minor": 0,
       "model_id": "d0fc98b9e26141ae87307a3be86a6678"
      }
     },
     "metadata": {},
     "output_type": "display_data"
    },
    {
     "data": {
      "text/plain": "Validation: |          | 0/? [00:00<?, ?it/s]",
      "application/vnd.jupyter.widget-view+json": {
       "version_major": 2,
       "version_minor": 0,
       "model_id": "1eb2025fd90a40ef8afa3c1461ccf17d"
      }
     },
     "metadata": {},
     "output_type": "display_data"
    },
    {
     "data": {
      "text/plain": "Validation: |          | 0/? [00:00<?, ?it/s]",
      "application/vnd.jupyter.widget-view+json": {
       "version_major": 2,
       "version_minor": 0,
       "model_id": "6faf4bf3e33b4a0b8bc87bc9f67fc393"
      }
     },
     "metadata": {},
     "output_type": "display_data"
    },
    {
     "data": {
      "text/plain": "Validation: |          | 0/? [00:00<?, ?it/s]",
      "application/vnd.jupyter.widget-view+json": {
       "version_major": 2,
       "version_minor": 0,
       "model_id": "788cbb212ea24c26ae50eea6696cffe7"
      }
     },
     "metadata": {},
     "output_type": "display_data"
    },
    {
     "data": {
      "text/plain": "Validation: |          | 0/? [00:00<?, ?it/s]",
      "application/vnd.jupyter.widget-view+json": {
       "version_major": 2,
       "version_minor": 0,
       "model_id": "d34f35fabc6e484db3b1892f29a7f756"
      }
     },
     "metadata": {},
     "output_type": "display_data"
    },
    {
     "data": {
      "text/plain": "Validation: |          | 0/? [00:00<?, ?it/s]",
      "application/vnd.jupyter.widget-view+json": {
       "version_major": 2,
       "version_minor": 0,
       "model_id": "4fbf5d7307bd40d493e1e7eec01722d4"
      }
     },
     "metadata": {},
     "output_type": "display_data"
    },
    {
     "data": {
      "text/plain": "Validation: |          | 0/? [00:00<?, ?it/s]",
      "application/vnd.jupyter.widget-view+json": {
       "version_major": 2,
       "version_minor": 0,
       "model_id": "3d0193ee61e24709bf09ef9f929aa167"
      }
     },
     "metadata": {},
     "output_type": "display_data"
    },
    {
     "data": {
      "text/plain": "Validation: |          | 0/? [00:00<?, ?it/s]",
      "application/vnd.jupyter.widget-view+json": {
       "version_major": 2,
       "version_minor": 0,
       "model_id": "e64085b71e4a4b81a3d1dc850a732ba6"
      }
     },
     "metadata": {},
     "output_type": "display_data"
    },
    {
     "data": {
      "text/plain": "Validation: |          | 0/? [00:00<?, ?it/s]",
      "application/vnd.jupyter.widget-view+json": {
       "version_major": 2,
       "version_minor": 0,
       "model_id": "b11c738ef2304d9492f627a82d43be3e"
      }
     },
     "metadata": {},
     "output_type": "display_data"
    },
    {
     "data": {
      "text/plain": "Validation: |          | 0/? [00:00<?, ?it/s]",
      "application/vnd.jupyter.widget-view+json": {
       "version_major": 2,
       "version_minor": 0,
       "model_id": "44242f48ddde432a877fd2e69352e732"
      }
     },
     "metadata": {},
     "output_type": "display_data"
    },
    {
     "name": "stderr",
     "output_type": "stream",
     "text": [
      "C:\\Users\\shanh\\AppData\\Roaming\\Python\\Python311\\site-packages\\lightning\\pytorch\\trainer\\call.py:54: Detected KeyboardInterrupt, attempting graceful shutdown...\n"
     ]
    }
   ],
   "source": [
    "trainer_STEP4 = RL4COTrainer(\n",
    "    max_epochs=100,\n",
    "    accelerator=\"gpu\",\n",
    "    devices=1,\n",
    "    logger=None,\n",
    ")\n",
    "trainer_STEP4.fit(model_10)"
   ],
   "metadata": {
    "collapsed": false,
    "ExecuteTime": {
     "end_time": "2024-11-16T04:27:13.872125Z",
     "start_time": "2024-11-16T04:18:53.689280Z"
    }
   },
   "id": "a684dca1575bd07b",
   "execution_count": 20
  },
  {
   "cell_type": "code",
   "outputs": [
    {
     "name": "stdout",
     "output_type": "stream",
     "text": [
      "Trained 45 Epochs with Environment of C=10, S=3, EV=3\n",
      "Scale: 10 | Mean Trained Test Cost: 5.273592\n",
      "Scale: 20 | Mean Trained Test Cost: 9.000785\n",
      "Scale: 50 | Mean Trained Test Cost: 20.040207\n",
      "Scale: 100 | Mean Trained Test Cost: 37.399662\n"
     ]
    }
   ],
   "source": [
    "# Greedy rollouts over untrained policy\n",
    "device = torch.device(\"cuda\")\n",
    "\n",
    "policy = policy.to(device)\n",
    "out_10 = policy(td_10_TEST.clone(), env=env_10, phase=\"test\", decode_type=\"greedy\", return_actions=True)\n",
    "out_20 = policy(td_20_TEST.clone(), env=env_20, phase=\"test\", decode_type=\"greedy\", return_actions=True)\n",
    "out_50 = policy(td_50_TEST.clone(), env=env_50, phase=\"test\", decode_type=\"greedy\", return_actions=True)\n",
    "out_100 = policy(td_100_TEST.clone(), env=env_100, phase=\"test\", decode_type=\"greedy\", return_actions=True)\n",
    "\n",
    "rewards_trained_10 = out_10['reward'].cpu().numpy()\n",
    "rewards_trained_20 = out_20['reward'].cpu().numpy()\n",
    "rewards_trained_50 = out_50['reward'].cpu().numpy()\n",
    "rewards_trained_100 = out_100['reward'].cpu().numpy()\n",
    "rewards_trained = [rewards_trained_10, rewards_trained_20, rewards_trained_50, rewards_trained_100]\n",
    "\n",
    "scale = [10, 20, 50, 100]\n",
    "print(\"Trained 45 Epochs with Environment of C=10, S=3, EV=3\")\n",
    "for i in range(4):\n",
    "    print(f\"Scale: {scale[i]} | Mean Trained Test Cost: {-rewards_trained[i].mean():3f}\")"
   ],
   "metadata": {
    "collapsed": false,
    "ExecuteTime": {
     "end_time": "2024-11-16T04:27:20.207600Z",
     "start_time": "2024-11-16T04:27:18.471220Z"
    }
   },
   "id": "44d42b00a67af83e",
   "execution_count": 21
  },
  {
   "cell_type": "code",
   "outputs": [],
   "source": [],
   "metadata": {
    "collapsed": false
   },
   "id": "45dc580bbe391854"
  }
 ],
 "metadata": {
  "kernelspec": {
   "display_name": "Python 3",
   "language": "python",
   "name": "python3"
  },
  "language_info": {
   "codemirror_mode": {
    "name": "ipython",
    "version": 2
   },
   "file_extension": ".py",
   "mimetype": "text/x-python",
   "name": "python",
   "nbconvert_exporter": "python",
   "pygments_lexer": "ipython2",
   "version": "2.7.6"
  }
 },
 "nbformat": 4,
 "nbformat_minor": 5
}
