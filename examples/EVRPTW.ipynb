{
 "cells": [
  {
   "cell_type": "code",
   "execution_count": 45,
   "id": "initial_id",
   "metadata": {
    "collapsed": true,
    "ExecuteTime": {
     "end_time": "2024-11-15T00:44:42.658808Z",
     "start_time": "2024-11-15T00:44:42.539189Z"
    }
   },
   "outputs": [
    {
     "name": "stdout",
     "output_type": "stream",
     "text": [
      "The autoreload extension is already loaded. To reload it, use:\n",
      "  %reload_ext autoreload\n"
     ]
    }
   ],
   "source": [
    "%load_ext autoreload\n",
    "%autoreload 2\n",
    "\n",
    "import torch\n",
    "\n",
    "from rl4co.envs import CVRPTWEnv, EVRPTWEnv \n",
    "from rl4co.models import AttentionModelPolicy, REINFORCE, SymNCO, PPO, POMO\n",
    "from rl4co.utils.trainer import RL4COTrainer"
   ]
  },
  {
   "cell_type": "code",
   "outputs": [],
   "source": [
    "env = EVRPTWEnv(generator_params={'num_loc': 10, \n",
    "                                  'num_station': 3,\n",
    "                                  'vehicle_limit': 3,\n",
    "                                  'vehicle_speed': 5,\n",
    "                                  'max_time': 0.9,\n",
    "                                  'horizon': 1.2,\n",
    "                                  'fuel_consumption_rate': 0.2,\n",
    "                                  'inverse_recharge_rate': 0.2})"
   ],
   "metadata": {
    "collapsed": false,
    "ExecuteTime": {
     "end_time": "2024-11-15T00:44:43.560367Z",
     "start_time": "2024-11-15T00:44:43.405674Z"
    }
   },
   "id": "e58a04627ea0a434",
   "execution_count": 46
  },
  {
   "cell_type": "code",
   "outputs": [],
   "source": [
    "# Policy: neural network, in this case with encoder-decoder architecture\n",
    "policy = AttentionModelPolicy(env_name=env.name,\n",
    "                              embed_dim=256,\n",
    "                              num_encoder_layers=3,\n",
    "                              num_heads=8,\n",
    "                              )\n",
    "\n",
    "# RL Model: REINFORCE and greedy rollout baseline\n",
    "# model = REINFORCE(env,\n",
    "#                   policy,\n",
    "#                   baseline=\"rollout\",\n",
    "#                   batch_size=512,\n",
    "#                   train_data_size=500_000,\n",
    "#                   val_data_size=100_000,\n",
    "#                   optimizer_kwargs={\"lr\": 1e-4},\n",
    "#                   )\n",
    "\n",
    "# model = PPO(env,\n",
    "#             policy,\n",
    "#             # baseline=\"rollout\",\n",
    "#             batch_size=512,\n",
    "#             train_data_size=200_000,\n",
    "#             val_data_size=100_000,\n",
    "#             optimizer_kwargs={\"lr\": 1e-4},\n",
    "#             )\n",
    "\n",
    "model = POMO(env,\n",
    "            policy,\n",
    "            # baseline=\"rollout\",\n",
    "            batch_size=512,\n",
    "            train_data_size=100_000,\n",
    "            val_data_size=10_000,\n",
    "            optimizer_kwargs={\"lr\": 1e-4},\n",
    "            )"
   ],
   "metadata": {
    "collapsed": false,
    "ExecuteTime": {
     "end_time": "2024-11-15T00:44:44.436477Z",
     "start_time": "2024-11-15T00:44:44.275837Z"
    }
   },
   "id": "e2b92290e4554f5c",
   "execution_count": 47
  },
  {
   "cell_type": "code",
   "outputs": [
    {
     "name": "stdout",
     "output_type": "stream",
     "text": [
      "Problem 1 | Cost: 4.829708\n",
      "[ 2  7  1 10  6  5  9  0  3  8  4  0  0  0  0  0  0  0  0  0  0  0  0  0\n",
      "  0  0  0  0  0  0  0  0  0  0  0  0]\n",
      "Problem 2 | Cost: 15.444407\n",
      "[10  2  6  5  3  0  7  1  9  8  0  0  0  0  0  0  0  0  0  0  0  0  0  0\n",
      "  0  0  0  0  0  0  0  0  0  0  0  0]\n",
      "Problem 3 | Cost: 6.450588\n",
      "[ 6  7  9  5  1  0  2  3  4  0  8  0 10  0  0  0  0  0  0  0  0  0  0  0\n",
      "  0  0  0  0  0  0  0  0  0  0  0  0]\n",
      "Problem 4 | Cost: 27.571224\n",
      "[ 4  1  2  0  6  5  3  9  0 11 10  8  0 11  0 11  0 11  0 11  0 11  0 11\n",
      "  0 11  0 11  0 11  0 11  0 11  0 11]\n",
      "Problem 5 | Cost: 5.629992\n",
      "[ 6  8  1  9  7  0  4  5  3 10  2  0  0  0  0  0  0  0  0  0  0  0  0  0\n",
      "  0  0  0  0  0  0  0  0  0  0  0  0]\n",
      "Problem 6 | Cost: 5.914991\n",
      "[ 4  8  9  6  1 10  7  0  2  3  0  5  0  0  0  0  0  0  0  0  0  0  0  0\n",
      "  0  0  0  0  0  0  0  0  0  0  0  0]\n",
      "Problem 7 | Cost: 4.970345\n",
      "[ 5  6  1  3  7  2  0  8  9  4  0 10  0  0  0  0  0  0  0  0  0  0  0  0\n",
      "  0  0  0  0  0  0  0  0  0  0  0  0]\n",
      "Problem 8 | Cost: 6.100320\n",
      "[ 2  9  5  7  8  0  1  4 10  3  0  6  0  0  0  0  0  0  0  0  0  0  0  0\n",
      "  0  0  0  0  0  0  0  0  0  0  0  0]\n",
      "Problem 9 | Cost: 5.043502\n",
      "[ 3  9  0  6 10  5  2  7  0  1  4  0  8  0  0  0  0  0  0  0  0  0  0  0\n",
      "  0  0  0  0  0  0  0  0  0  0  0  0]\n",
      "Problem 10 | Cost: 8.840933\n",
      "[ 2  8  9  6  0  7  4  1  0 10  0  3  0 11  5  0  0  0  0  0  0  0  0  0\n",
      "  0  0  0  0  0  0  0  0  0  0  0  0]\n",
      "Problem 11 | Cost: 6.001133\n",
      "[ 7  5  3  9  8  0  2 10  4  6  0  1  0  0  0  0  0  0  0  0  0  0  0  0\n",
      "  0  0  0  0  0  0  0  0  0  0  0  0]\n",
      "Problem 12 | Cost: 4.814953\n",
      "[ 8  9  7  3  0  1  2 10  6  0  5  0  4  0  0  0  0  0  0  0  0  0  0  0\n",
      "  0  0  0  0  0  0  0  0  0  0  0  0]\n",
      "Problem 13 | Cost: 5.126981\n",
      "[ 6  4  0  8  7  2 10  5  0  3  1  9  0  0  0  0  0  0  0  0  0  0  0  0\n",
      "  0  0  0  0  0  0  0  0  0  0  0  0]\n",
      "Problem 14 | Cost: 6.686800\n",
      "[ 9  1  2  3  5  4  0  8  0  6 10  0 13  7  0  0  0  0  0  0  0  0  0  0\n",
      "  0  0  0  0  0  0  0  0  0  0  0  0]\n",
      "Problem 15 | Cost: 21.255247\n",
      "[ 1  4  3  0  2  7  0 11  6  0 11 10  0 11  8  0  0  0  0  0  0  0  0  0\n",
      "  0  0  0  0  0  0  0  0  0  0  0  0]\n",
      "Problem 16 | Cost: 7.446521\n",
      "[ 2  7 10  0  8  1  4  9  0 12  5  3  6  0  0  0  0  0  0  0  0  0  0  0\n",
      "  0  0  0  0  0  0  0  0  0  0  0  0]\n",
      "Problem 17 | Cost: 22.002604\n",
      "[ 8  5  9  7  3  2  0 10  4  6  0 13  0 13  0 13  0 13  0 13  0 13  0 13\n",
      "  0 13  0 13  0 13  0 13  0 13  0 13]\n",
      "Problem 18 | Cost: 36.936203\n",
      "[ 8  3  7  9  5  0  4 10  6  2  0 11  0 11  0 11  0 11  0 11  0 11  0 11\n",
      "  0 11  0 11  0 11  0 11  0 11  0 11]\n",
      "Problem 19 | Cost: 6.359869\n",
      "[ 9  3  4  8  0  6  2 10  5  7  0  1  0  0  0  0  0  0  0  0  0  0  0  0\n",
      "  0  0  0  0  0  0  0  0  0  0  0  0]\n",
      "Problem 20 | Cost: 7.056638\n",
      "[ 2  0  1  4  0  6  8  5  7  9  0 10  3  0  0  0  0  0  0  0  0  0  0  0\n",
      "  0  0  0  0  0  0  0  0  0  0  0  0]\n",
      "Problem 21 | Cost: 5.681324\n",
      "[ 8  3  1  4  2  0  5  7  6  9  0 10  0  0  0  0  0  0  0  0  0  0  0  0\n",
      "  0  0  0  0  0  0  0  0  0  0  0  0]\n",
      "Problem 22 | Cost: 33.590763\n",
      "[ 4  3 10  0  1  7  9  0  5  2  6  0 11  0 11  0 11  0 11  0 11  0 11  0\n",
      " 11  0 11  0 11  0 11  0 11  0 11  0]\n",
      "Problem 23 | Cost: 4.610206\n",
      "[ 3  8  1  6  9  0 10  5  7  2  4  0  0  0  0  0  0  0  0  0  0  0  0  0\n",
      "  0  0  0  0  0  0  0  0  0  0  0  0]\n",
      "Problem 24 | Cost: 5.987020\n",
      "[ 8  1  2  4 10  0  7  6  3  9  0  5  0  0  0  0  0  0  0  0  0  0  0  0\n",
      "  0  0  0  0  0  0  0  0  0  0  0  0]\n",
      "Problem 25 | Cost: 5.666704\n",
      "[ 7  3 10  2  5  0  1  0  6  4  9  0  8  0  0  0  0  0  0  0  0  0  0  0\n",
      "  0  0  0  0  0  0  0  0  0  0  0  0]\n",
      "Problem 26 | Cost: 4.658497\n",
      "[ 3  4  1  8  9  6  0  7  5  2  0 10  0  0  0  0  0  0  0  0  0  0  0  0\n",
      "  0  0  0  0  0  0  0  0  0  0  0  0]\n",
      "Problem 27 | Cost: 6.381093\n",
      "[ 6  4  2  8  0  9  5  7  3  0  1 10  0  0  0  0  0  0  0  0  0  0  0  0\n",
      "  0  0  0  0  0  0  0  0  0  0  0  0]\n",
      "Problem 28 | Cost: 38.446419\n",
      "[12  1  8  4  6  0 12  2  5  7  3  0 12  0 12  0 12  0 12  0 12  0 12  0\n",
      " 12  0 12  0 12  0 12  0 12  0 12  0]\n",
      "Problem 29 | Cost: 38.851841\n",
      "[ 7  3  6  5  2  0  8 10  9  0 12  0 12  0 12  0 12  0 12  0 12  0 12  0\n",
      " 12  0 12  0 12  0 12  0 12  0 12  0]\n",
      "Problem 30 | Cost: 38.995167\n",
      "[ 4  7  1  9 10  0 12  5  8  2  3  0 12  0 12  0 12  0 12  0 12  0 12  0\n",
      " 12  0 12  0 12  0 12  0 12  0 12  0]\n",
      "Problem 31 | Cost: 4.521123\n",
      "[ 3  7  5  4 10  2  9  0  6  1  8  0  0  0  0  0  0  0  0  0  0  0  0  0\n",
      "  0  0  0  0  0  0  0  0  0  0  0  0]\n",
      "Problem 32 | Cost: 15.109044\n",
      "[ 3  7  5  1  0  4  9 10  8  0  6  0  0  0  0  0  0  0  0  0  0  0  0  0\n",
      "  0  0  0  0  0  0  0  0  0  0  0  0]\n",
      "Problem 33 | Cost: 24.910999\n",
      "[ 8  2  6  5  7  1 10  0  3  4  0 12  0 12  0 12  0 12  0 12  0 12  0 12\n",
      "  0 12  0 12  0 12  0 12  0 12  0 12]\n",
      "Problem 34 | Cost: 7.475467\n",
      "[ 6 10  7  0  4  9  8  2  3  0  1  5  0  0  0  0  0  0  0  0  0  0  0  0\n",
      "  0  0  0  0  0  0  0  0  0  0  0  0]\n",
      "Problem 35 | Cost: 6.978187\n",
      "[ 3  9 10  6  8  7  0  4  1  2  0 12  5  0  0  0  0  0  0  0  0  0  0  0\n",
      "  0  0  0  0  0  0  0  0  0  0  0  0]\n",
      "Problem 36 | Cost: 35.552910\n",
      "[ 7 10  0  6  2  3  1  0  9  5  4  0 13  0 13  0 13  0 13  0 13  0 13  0\n",
      " 13  0 13  0 13  0 13  0 13  0 13  0]\n",
      "Problem 37 | Cost: 4.799753\n",
      "[ 6  8  2  9  0  3 10  7  4  1  0  5  0  0  0  0  0  0  0  0  0  0  0  0\n",
      "  0  0  0  0  0  0  0  0  0  0  0  0]\n",
      "Problem 38 | Cost: 8.240055\n",
      "[ 3  8  4  9  0 10  1  5  6  2  0  7  0  0  0  0  0  0  0  0  0  0  0  0\n",
      "  0  0  0  0  0  0  0  0  0  0  0  0]\n",
      "Problem 39 | Cost: 6.949854\n",
      "[ 1  3  6  5  2  7  0  9  8 10  0 11  4  0  0  0  0  0  0  0  0  0  0  0\n",
      "  0  0  0  0  0  0  0  0  0  0  0  0]\n",
      "Problem 40 | Cost: 5.897223\n",
      "[ 3  1  5  9 10  8  0  7  6  0  4  2  0  0  0  0  0  0  0  0  0  0  0  0\n",
      "  0  0  0  0  0  0  0  0  0  0  0  0]\n",
      "Problem 41 | Cost: 6.629915\n",
      "[ 1  7  4  8  0 10  6  0  2  5  3  0  9  0  0  0  0  0  0  0  0  0  0  0\n",
      "  0  0  0  0  0  0  0  0  0  0  0  0]\n",
      "Problem 42 | Cost: 4.721132\n",
      "[ 7  3  4  9 10  6  0  8  2  5  1  0  0  0  0  0  0  0  0  0  0  0  0  0\n",
      "  0  0  0  0  0  0  0  0  0  0  0  0]\n",
      "Problem 43 | Cost: 5.242374\n",
      "[ 4  1  2  0 10  3  8  5  0  7  9  6  0  0  0  0  0  0  0  0  0  0  0  0\n",
      "  0  0  0  0  0  0  0  0  0  0  0  0]\n",
      "Problem 44 | Cost: 6.857225\n",
      "[ 7  6  2  0 10  9  1  4  0  5  8  3  0  0  0  0  0  0  0  0  0  0  0  0\n",
      "  0  0  0  0  0  0  0  0  0  0  0  0]\n",
      "Problem 45 | Cost: 5.322895\n",
      "[ 8  9  6  1 10  2  0  5  3  4  7  0  0  0  0  0  0  0  0  0  0  0  0  0\n",
      "  0  0  0  0  0  0  0  0  0  0  0  0]\n",
      "Problem 46 | Cost: 30.163174\n",
      "[13  3  2  7 10  0 13  9  6  5  1  0 13  8  0 13  0 13  0 13  0 13  0 13\n",
      "  0 13  0 13  0 13  0 13  0 13  0 13]\n",
      "Problem 47 | Cost: 6.309210\n",
      "[ 9  5 10  8  0  2  7  1  6  3  0  4  0  0  0  0  0  0  0  0  0  0  0  0\n",
      "  0  0  0  0  0  0  0  0  0  0  0  0]\n",
      "Problem 48 | Cost: 8.515888\n",
      "[ 6  5  3  9  8  0  1 10  7  0  2  0  4  0  0  0  0  0  0  0  0  0  0  0\n",
      "  0  0  0  0  0  0  0  0  0  0  0  0]\n",
      "Problem 49 | Cost: 7.078917\n",
      "[ 3  1  0  7  5  8  6  0  2  4  9  0 10  0  0  0  0  0  0  0  0  0  0  0\n",
      "  0  0  0  0  0  0  0  0  0  0  0  0]\n",
      "Problem 50 | Cost: 6.325064\n",
      "[10  6  2  7  9  0  3  5  8  1  0  4  0  0  0  0  0  0  0  0  0  0  0  0\n",
      "  0  0  0  0  0  0  0  0  0  0  0  0]\n",
      "Problem 51 | Cost: 5.544021\n",
      "[ 9  6  3  7 10  0  4  5  1  8  2  0  0  0  0  0  0  0  0  0  0  0  0  0\n",
      "  0  0  0  0  0  0  0  0  0  0  0  0]\n",
      "Problem 52 | Cost: 7.513421\n",
      "[ 9  1 10  4  0  7  5  0  3  6  2  0  8  0  0  0  0  0  0  0  0  0  0  0\n",
      "  0  0  0  0  0  0  0  0  0  0  0  0]\n",
      "Problem 53 | Cost: 6.357846\n",
      "[ 1  6  0  5  3  2  9 10  0  7  4  8  0  0  0  0  0  0  0  0  0  0  0  0\n",
      "  0  0  0  0  0  0  0  0  0  0  0  0]\n",
      "Problem 54 | Cost: 17.264421\n",
      "[ 4  2  8  3  0  6  5  0  7  9  0 10  0  0  0  0  0  0  0  0  0  0  0  0\n",
      "  0  0  0  0  0  0  0  0  0  0  0  0]\n",
      "Problem 55 | Cost: 16.944414\n",
      "[ 5  4  0  7  1  0  9  6  0  2 10  0 11  3  0  0  0  0  0  0  0  0  0  0\n",
      "  0  0  0  0  0  0  0  0  0  0  0  0]\n",
      "Problem 56 | Cost: 8.323593\n",
      "[ 4  8  9  5  0  7  2  0  1 10  3  6  0  0  0  0  0  0  0  0  0  0  0  0\n",
      "  0  0  0  0  0  0  0  0  0  0  0  0]\n",
      "Problem 57 | Cost: 6.290051\n",
      "[ 7  6  8  5  2  0 10  1  9  0  3  4  0  0  0  0  0  0  0  0  0  0  0  0\n",
      "  0  0  0  0  0  0  0  0  0  0  0  0]\n",
      "Problem 58 | Cost: 4.798905\n",
      "[ 9  6  4  0  8 10  1  3  0  7  0  5  2  0  0  0  0  0  0  0  0  0  0  0\n",
      "  0  0  0  0  0  0  0  0  0  0  0  0]\n",
      "Problem 59 | Cost: 7.687705\n",
      "[ 5  1  0  8  9  7 10  0  6  4  2  3  0  0  0  0  0  0  0  0  0  0  0  0\n",
      "  0  0  0  0  0  0  0  0  0  0  0  0]\n",
      "Problem 60 | Cost: 5.813773\n",
      "[ 6  7  3  9  0  8  5  2  1  0  4  0 12 10  0  0  0  0  0  0  0  0  0  0\n",
      "  0  0  0  0  0  0  0  0  0  0  0  0]\n",
      "Problem 61 | Cost: 6.104377\n",
      "[ 6  7  1 10  0  5  8  9  2  3  0 13  4  0  0  0  0  0  0  0  0  0  0  0\n",
      "  0  0  0  0  0  0  0  0  0  0  0  0]\n",
      "Problem 62 | Cost: 6.841315\n",
      "[ 5  4  7  3  0  6 10  2  0  8  9  1  0  0  0  0  0  0  0  0  0  0  0  0\n",
      "  0  0  0  0  0  0  0  0  0  0  0  0]\n",
      "Problem 63 | Cost: 9.330964\n",
      "[ 7  8 10  9  0  2  5  0  3  1  4  0  6  0  0  0  0  0  0  0  0  0  0  0\n",
      "  0  0  0  0  0  0  0  0  0  0  0  0]\n",
      "Problem 64 | Cost: 6.111826\n",
      "[ 5  1  8 10  0  3  2  9  6  4  0  7  0  0  0  0  0  0  0  0  0  0  0  0\n",
      "  0  0  0  0  0  0  0  0  0  0  0  0]\n",
      "Problem 65 | Cost: 17.011105\n",
      "[ 8  9  6  3  7  0  1  5  4  0 10  0  0  0  0  0  0  0  0  0  0  0  0  0\n",
      "  0  0  0  0  0  0  0  0  0  0  0  0]\n",
      "Problem 66 | Cost: 6.981190\n",
      "[ 9  6  4  1 10  0  7  2  8  5  0 11  3  0  0  0  0  0  0  0  0  0  0  0\n",
      "  0  0  0  0  0  0  0  0  0  0  0  0]\n",
      "Problem 67 | Cost: 14.521943\n",
      "[ 3  9 10  6  8  0  7  1  5  0  0  0  0  0  0  0  0  0  0  0  0  0  0  0\n",
      "  0  0  0  0  0  0  0  0  0  0  0  0]\n",
      "Problem 68 | Cost: 11.257321\n",
      "[ 6  3  9 10  0  1  8  7  0 13  5  2  0 13  4  0  0  0  0  0  0  0  0  0\n",
      "  0  0  0  0  0  0  0  0  0  0  0  0]\n",
      "Problem 69 | Cost: 4.490814\n",
      "[ 7  4  8  1  6  0 10  3  9  0  2  5  0  0  0  0  0  0  0  0  0  0  0  0\n",
      "  0  0  0  0  0  0  0  0  0  0  0  0]\n",
      "Problem 70 | Cost: 6.102288\n",
      "[ 9  3  2  8  7  6  0 10  4  5  0  1  0  0  0  0  0  0  0  0  0  0  0  0\n",
      "  0  0  0  0  0  0  0  0  0  0  0  0]\n",
      "Problem 71 | Cost: 6.722430\n",
      "[ 5  4  2  7  0  8  3  6 10  0  1  9  0  0  0  0  0  0  0  0  0  0  0  0\n",
      "  0  0  0  0  0  0  0  0  0  0  0  0]\n",
      "Problem 72 | Cost: 8.364296\n",
      "[ 2  8  5  0  9  4  6  7  0  1 10  0 11  3  0  0  0  0  0  0  0  0  0  0\n",
      "  0  0  0  0  0  0  0  0  0  0  0  0]\n",
      "Problem 73 | Cost: 15.472393\n",
      "[9 8 3 4 7 0 1 5 2 6 0 0 0 0 0 0 0 0 0 0 0 0 0 0 0 0 0 0 0 0 0 0 0 0 0 0]\n",
      "Problem 74 | Cost: 5.396009\n",
      "[ 5 10  3  6  4  0  1  9  2  0  7  8  0  0  0  0  0  0  0  0  0  0  0  0\n",
      "  0  0  0  0  0  0  0  0  0  0  0  0]\n",
      "Problem 75 | Cost: 5.478362\n",
      "[10  1  2  6  7  0  5  3  8  0  9  4  0  0  0  0  0  0  0  0  0  0  0  0\n",
      "  0  0  0  0  0  0  0  0  0  0  0  0]\n",
      "Problem 76 | Cost: 6.343857\n",
      "[ 8  6  1  9  0 10  3  5  7  0  2  4  0  0  0  0  0  0  0  0  0  0  0  0\n",
      "  0  0  0  0  0  0  0  0  0  0  0  0]\n",
      "Problem 77 | Cost: 5.412708\n",
      "[ 1  3  7  9  8  0  5  2  4 10  6  0  0  0  0  0  0  0  0  0  0  0  0  0\n",
      "  0  0  0  0  0  0  0  0  0  0  0  0]\n",
      "Problem 78 | Cost: 5.534035\n",
      "[ 3  6  5  9  4 10  0  2  8  1  7  0  0  0  0  0  0  0  0  0  0  0  0  0\n",
      "  0  0  0  0  0  0  0  0  0  0  0  0]\n",
      "Problem 79 | Cost: 6.490675\n",
      "[ 8  9  4  0 10  2  6  5  0  3  7  1  0  0  0  0  0  0  0  0  0  0  0  0\n",
      "  0  0  0  0  0  0  0  0  0  0  0  0]\n",
      "Problem 80 | Cost: 15.859772\n",
      "[10  4  8  7  0  2  6  5  1  0  9  0  0  0  0  0  0  0  0  0  0  0  0  0\n",
      "  0  0  0  0  0  0  0  0  0  0  0  0]\n",
      "Problem 81 | Cost: 9.841509\n",
      "[ 6  0  7 10  4  0  8  5  2  0 11  1  3  0 11  9  0  0  0  0  0  0  0  0\n",
      "  0  0  0  0  0  0  0  0  0  0  0  0]\n",
      "Problem 82 | Cost: 5.421507\n",
      "[ 2  8  1  4  6 10  9  0  5  3  0  7  0  0  0  0  0  0  0  0  0  0  0  0\n",
      "  0  0  0  0  0  0  0  0  0  0  0  0]\n",
      "Problem 83 | Cost: 7.356853\n",
      "[ 4  3  1  5  0  6  8  7  9  0 10  0  2  0  0  0  0  0  0  0  0  0  0  0\n",
      "  0  0  0  0  0  0  0  0  0  0  0  0]\n",
      "Problem 84 | Cost: 4.759620\n",
      "[ 1  2  8 10  5  0  4  7  9  3  0  6  0  0  0  0  0  0  0  0  0  0  0  0\n",
      "  0  0  0  0  0  0  0  0  0  0  0  0]\n",
      "Problem 85 | Cost: 35.416237\n",
      "[ 4 10  9  6  0  5  8  0 11  1  7  2  0 11  0 11  0 11  0 11  0 11  0 11\n",
      "  0 11  0 11  0 11  0 11  0 11  0 11]\n",
      "Problem 86 | Cost: 40.483192\n",
      "[ 3 10  4  1  6  0  5  8  0  9  0 13  0 13  0 13  0 13  0 13  0 13  0 13\n",
      "  0 13  0 13  0 13  0 13  0 13  0 13]\n",
      "Problem 87 | Cost: 36.343506\n",
      "[ 4  1  3  6  5  2  0  7 10  9  0 11  0 11  0 11  0 11  0 11  0 11  0 11\n",
      "  0 11  0 11  0 11  0 11  0 11  0 11]\n",
      "Problem 88 | Cost: 33.989677\n",
      "[ 1  3  4 10  0  2  5  9  0  8  7  0 13  0 13  0 13  0 13  0 13  0 13  0\n",
      " 13  0 13  0 13  0 13  0 13  0 13  0]\n",
      "Problem 89 | Cost: 5.058228\n",
      "[10  2  6  7  3  5  9  4  0 13  8  1  0  0  0  0  0  0  0  0  0  0  0  0\n",
      "  0  0  0  0  0  0  0  0  0  0  0  0]\n",
      "Problem 90 | Cost: 38.678211\n",
      "[11  9  5  1 10  0  8  4  7  6  0 11  2  0 11  0 11  0 11  0 11  0 11  0\n",
      " 11  0 11  0 11  0 11  0 11  0 11  0]\n",
      "Problem 91 | Cost: 8.956370\n",
      "[ 3 10  8  0  7  2  1  6  0 13  4  5  0 13  9  0  0  0  0  0  0  0  0  0\n",
      "  0  0  0  0  0  0  0  0  0  0  0  0]\n",
      "Problem 92 | Cost: 6.101652\n",
      "[ 7  5  9  4  0  8  2  3  1  6  0 13 10  0  0  0  0  0  0  0  0  0  0  0\n",
      "  0  0  0  0  0  0  0  0  0  0  0  0]\n",
      "Problem 93 | Cost: 8.052698\n",
      "[10  8  2  9  5  0  7  6  1  0  4  3  0  0  0  0  0  0  0  0  0  0  0  0\n",
      "  0  0  0  0  0  0  0  0  0  0  0  0]\n",
      "Problem 94 | Cost: 5.918894\n",
      "[ 5  7  4  0  3  1  9  2 10  0  6  0  8  0  0  0  0  0  0  0  0  0  0  0\n",
      "  0  0  0  0  0  0  0  0  0  0  0  0]\n",
      "Problem 95 | Cost: 43.922134\n",
      "[ 9  1  3 10  0 12  2  6  4  0 12  7  0 12  0 12  0 12  0 12  0 12  0 12\n",
      "  0 12  0 12  0 12  0 12  0 12  0 12]\n",
      "Problem 96 | Cost: 10.407961\n",
      "[ 5 10  8  9  1  0  4  0  6  7  0  3  0  2  0  0  0  0  0  0  0  0  0  0\n",
      "  0  0  0  0  0  0  0  0  0  0  0  0]\n",
      "Problem 97 | Cost: 37.102299\n",
      "[ 3  9  6  5  0  4  7  2  8 10  0 11  0 11  0 11  0 11  0 11  0 11  0 11\n",
      "  0 11  0 11  0 11  0 11  0 11  0 11]\n",
      "Problem 98 | Cost: 6.894428\n",
      "[10  5  2  9  1  7  0 13  3  6  8  0 11  4  0  0  0  0  0  0  0  0  0  0\n",
      "  0  0  0  0  0  0  0  0  0  0  0  0]\n",
      "Problem 99 | Cost: 7.547584\n",
      "[ 3  9  6 10  1  0  8  5  2  4  0  7  0  0  0  0  0  0  0  0  0  0  0  0\n",
      "  0  0  0  0  0  0  0  0  0  0  0  0]\n",
      "Problem 100 | Cost: 7.718780\n",
      "[ 9  8  5  1  6  0  3  7  4 10  0  2  0  0  0  0  0  0  0  0  0  0  0  0\n",
      "  0  0  0  0  0  0  0  0  0  0  0  0]\n"
     ]
    }
   ],
   "source": [
    "# Greedy rollouts over untrained policy\n",
    "device = torch.device(\"cuda\")\n",
    "# device = torch.device(\"cpu\")\n",
    "td_init = env.reset(batch_size=[100]).to(device)\n",
    "\n",
    "policy = policy.to(device)\n",
    "out = policy(td_init.clone(), env=env, phase=\"test\", decode_type=\"greedy\", return_actions=True)\n",
    "\n",
    "actions_untrained = out['actions'].cpu().numpy()\n",
    "rewards_untrained = out['reward'].cpu().numpy()\n",
    "\n",
    "for i in range(td_init.batch_size[0]):\n",
    "    print(f\"Problem {i+1} | Cost: {-rewards_untrained[i]:3f}\")\n",
    "    # env.render(td_init[i], actions_untrained[i])\n",
    "    print(actions_untrained[i])"
   ],
   "metadata": {
    "collapsed": false,
    "ExecuteTime": {
     "end_time": "2024-11-15T00:44:46.821731Z",
     "start_time": "2024-11-15T00:44:46.226728Z"
    }
   },
   "id": "6114690c450fabd2",
   "execution_count": 48
  },
  {
   "cell_type": "code",
   "outputs": [
    {
     "name": "stderr",
     "output_type": "stream",
     "text": [
      "Using 16bit Automatic Mixed Precision (AMP)\n",
      "GPU available: True (cuda), used: True\n",
      "TPU available: False, using: 0 TPU cores\n",
      "IPU available: False, using: 0 IPUs\n",
      "HPU available: False, using: 0 HPUs\n"
     ]
    }
   ],
   "source": [
    "trainer = RL4COTrainer(\n",
    "    max_epochs=30,\n",
    "    accelerator=\"gpu\",\n",
    "    devices=1,\n",
    "    logger=None,\n",
    ")"
   ],
   "metadata": {
    "collapsed": false,
    "ExecuteTime": {
     "end_time": "2024-11-15T00:44:48.736652Z",
     "start_time": "2024-11-15T00:44:48.529645Z"
    }
   },
   "id": "bf2fe2a662bdceb0",
   "execution_count": 49
  },
  {
   "cell_type": "code",
   "outputs": [
    {
     "name": "stderr",
     "output_type": "stream",
     "text": [
      "val_file not set. Generating dataset instead\n",
      "test_file not set. Generating dataset instead\n",
      "LOCAL_RANK: 0 - CUDA_VISIBLE_DEVICES: [0]\n",
      "\n",
      "  | Name     | Type                 | Params\n",
      "--------------------------------------------------\n",
      "0 | env      | EVRPTWEnv            | 0     \n",
      "1 | policy   | AttentionModelPolicy | 2.0 M \n",
      "2 | baseline | SharedBaseline       | 0     \n",
      "--------------------------------------------------\n",
      "2.0 M     Trainable params\n",
      "0         Non-trainable params\n",
      "2.0 M     Total params\n",
      "7.914     Total estimated model params size (MB)\n"
     ]
    },
    {
     "data": {
      "text/plain": "Sanity Checking: |          | 0/? [00:00<?, ?it/s]",
      "application/vnd.jupyter.widget-view+json": {
       "version_major": 2,
       "version_minor": 0,
       "model_id": "f4e28673929d455b813e34c5d536dabe"
      }
     },
     "metadata": {},
     "output_type": "display_data"
    },
    {
     "data": {
      "text/plain": "Training: |          | 0/? [00:00<?, ?it/s]",
      "application/vnd.jupyter.widget-view+json": {
       "version_major": 2,
       "version_minor": 0,
       "model_id": "82cb16109b4547a7b0a8b85f1a32870c"
      }
     },
     "metadata": {},
     "output_type": "display_data"
    },
    {
     "data": {
      "text/plain": "Validation: |          | 0/? [00:00<?, ?it/s]",
      "application/vnd.jupyter.widget-view+json": {
       "version_major": 2,
       "version_minor": 0,
       "model_id": "ef29d77a50294df782d893593b9bf067"
      }
     },
     "metadata": {},
     "output_type": "display_data"
    },
    {
     "data": {
      "text/plain": "Validation: |          | 0/? [00:00<?, ?it/s]",
      "application/vnd.jupyter.widget-view+json": {
       "version_major": 2,
       "version_minor": 0,
       "model_id": "5a12a21572c440509155db50c8069bc7"
      }
     },
     "metadata": {},
     "output_type": "display_data"
    },
    {
     "data": {
      "text/plain": "Validation: |          | 0/? [00:00<?, ?it/s]",
      "application/vnd.jupyter.widget-view+json": {
       "version_major": 2,
       "version_minor": 0,
       "model_id": "13287570d42d40e3a2f563a3fd5a1640"
      }
     },
     "metadata": {},
     "output_type": "display_data"
    },
    {
     "data": {
      "text/plain": "Validation: |          | 0/? [00:00<?, ?it/s]",
      "application/vnd.jupyter.widget-view+json": {
       "version_major": 2,
       "version_minor": 0,
       "model_id": "82dcd5f999c24d36980461af8507bc88"
      }
     },
     "metadata": {},
     "output_type": "display_data"
    },
    {
     "data": {
      "text/plain": "Validation: |          | 0/? [00:00<?, ?it/s]",
      "application/vnd.jupyter.widget-view+json": {
       "version_major": 2,
       "version_minor": 0,
       "model_id": "53cdfc7435df44e2a2d134c0f05b498f"
      }
     },
     "metadata": {},
     "output_type": "display_data"
    },
    {
     "data": {
      "text/plain": "Validation: |          | 0/? [00:00<?, ?it/s]",
      "application/vnd.jupyter.widget-view+json": {
       "version_major": 2,
       "version_minor": 0,
       "model_id": "7d72e57b6f474fb583ab234678bfa96a"
      }
     },
     "metadata": {},
     "output_type": "display_data"
    },
    {
     "data": {
      "text/plain": "Validation: |          | 0/? [00:00<?, ?it/s]",
      "application/vnd.jupyter.widget-view+json": {
       "version_major": 2,
       "version_minor": 0,
       "model_id": "de7b079c6a984eafbfddfd952f9ba43e"
      }
     },
     "metadata": {},
     "output_type": "display_data"
    },
    {
     "data": {
      "text/plain": "Validation: |          | 0/? [00:00<?, ?it/s]",
      "application/vnd.jupyter.widget-view+json": {
       "version_major": 2,
       "version_minor": 0,
       "model_id": "9c3c7cf3edb340248c314b7dcd18b000"
      }
     },
     "metadata": {},
     "output_type": "display_data"
    },
    {
     "data": {
      "text/plain": "Validation: |          | 0/? [00:00<?, ?it/s]",
      "application/vnd.jupyter.widget-view+json": {
       "version_major": 2,
       "version_minor": 0,
       "model_id": "974192f52f314bcbb84c5e7431e31ba1"
      }
     },
     "metadata": {},
     "output_type": "display_data"
    },
    {
     "data": {
      "text/plain": "Validation: |          | 0/? [00:00<?, ?it/s]",
      "application/vnd.jupyter.widget-view+json": {
       "version_major": 2,
       "version_minor": 0,
       "model_id": "4ea1db78f73b4745a2a70db0638048d1"
      }
     },
     "metadata": {},
     "output_type": "display_data"
    },
    {
     "data": {
      "text/plain": "Validation: |          | 0/? [00:00<?, ?it/s]",
      "application/vnd.jupyter.widget-view+json": {
       "version_major": 2,
       "version_minor": 0,
       "model_id": "ff32777dd2534dea9483b2d60b6fdd81"
      }
     },
     "metadata": {},
     "output_type": "display_data"
    },
    {
     "data": {
      "text/plain": "Validation: |          | 0/? [00:00<?, ?it/s]",
      "application/vnd.jupyter.widget-view+json": {
       "version_major": 2,
       "version_minor": 0,
       "model_id": "2317ded9c14b4c1eaebc6993304d8151"
      }
     },
     "metadata": {},
     "output_type": "display_data"
    },
    {
     "data": {
      "text/plain": "Validation: |          | 0/? [00:00<?, ?it/s]",
      "application/vnd.jupyter.widget-view+json": {
       "version_major": 2,
       "version_minor": 0,
       "model_id": "e4859e49e95a4c57bb32fa6aa6568969"
      }
     },
     "metadata": {},
     "output_type": "display_data"
    },
    {
     "data": {
      "text/plain": "Validation: |          | 0/? [00:00<?, ?it/s]",
      "application/vnd.jupyter.widget-view+json": {
       "version_major": 2,
       "version_minor": 0,
       "model_id": "531ee8c2020445b2913c814be97d448b"
      }
     },
     "metadata": {},
     "output_type": "display_data"
    },
    {
     "data": {
      "text/plain": "Validation: |          | 0/? [00:00<?, ?it/s]",
      "application/vnd.jupyter.widget-view+json": {
       "version_major": 2,
       "version_minor": 0,
       "model_id": "25ca3d154cc245b28995b195e023b97d"
      }
     },
     "metadata": {},
     "output_type": "display_data"
    },
    {
     "data": {
      "text/plain": "Validation: |          | 0/? [00:00<?, ?it/s]",
      "application/vnd.jupyter.widget-view+json": {
       "version_major": 2,
       "version_minor": 0,
       "model_id": "3f85957e2d914a978310a70660722c82"
      }
     },
     "metadata": {},
     "output_type": "display_data"
    },
    {
     "data": {
      "text/plain": "Validation: |          | 0/? [00:00<?, ?it/s]",
      "application/vnd.jupyter.widget-view+json": {
       "version_major": 2,
       "version_minor": 0,
       "model_id": "b7d5432d30394bcb852c9b7f09fec912"
      }
     },
     "metadata": {},
     "output_type": "display_data"
    },
    {
     "data": {
      "text/plain": "Validation: |          | 0/? [00:00<?, ?it/s]",
      "application/vnd.jupyter.widget-view+json": {
       "version_major": 2,
       "version_minor": 0,
       "model_id": "019ff9302da54fed95bce093694a5f40"
      }
     },
     "metadata": {},
     "output_type": "display_data"
    },
    {
     "data": {
      "text/plain": "Validation: |          | 0/? [00:00<?, ?it/s]",
      "application/vnd.jupyter.widget-view+json": {
       "version_major": 2,
       "version_minor": 0,
       "model_id": "24821ecf2f854a36a5041a4e5684c5c7"
      }
     },
     "metadata": {},
     "output_type": "display_data"
    },
    {
     "data": {
      "text/plain": "Validation: |          | 0/? [00:00<?, ?it/s]",
      "application/vnd.jupyter.widget-view+json": {
       "version_major": 2,
       "version_minor": 0,
       "model_id": "898337a1245f44f7961c548e08289ac3"
      }
     },
     "metadata": {},
     "output_type": "display_data"
    },
    {
     "data": {
      "text/plain": "Validation: |          | 0/? [00:00<?, ?it/s]",
      "application/vnd.jupyter.widget-view+json": {
       "version_major": 2,
       "version_minor": 0,
       "model_id": "6962069ed887472f8c4aa4dd3070db35"
      }
     },
     "metadata": {},
     "output_type": "display_data"
    },
    {
     "data": {
      "text/plain": "Validation: |          | 0/? [00:00<?, ?it/s]",
      "application/vnd.jupyter.widget-view+json": {
       "version_major": 2,
       "version_minor": 0,
       "model_id": "dd8e7d4ab0f542a28de5ef098899b4fa"
      }
     },
     "metadata": {},
     "output_type": "display_data"
    },
    {
     "data": {
      "text/plain": "Validation: |          | 0/? [00:00<?, ?it/s]",
      "application/vnd.jupyter.widget-view+json": {
       "version_major": 2,
       "version_minor": 0,
       "model_id": "bccb10ef7b654b5a8c9ba949abf29250"
      }
     },
     "metadata": {},
     "output_type": "display_data"
    },
    {
     "data": {
      "text/plain": "Validation: |          | 0/? [00:00<?, ?it/s]",
      "application/vnd.jupyter.widget-view+json": {
       "version_major": 2,
       "version_minor": 0,
       "model_id": "f7122f7f64f240e785366dd468cc0bd2"
      }
     },
     "metadata": {},
     "output_type": "display_data"
    },
    {
     "data": {
      "text/plain": "Validation: |          | 0/? [00:00<?, ?it/s]",
      "application/vnd.jupyter.widget-view+json": {
       "version_major": 2,
       "version_minor": 0,
       "model_id": "a901886ab381462dbd4a65d2e27aefc8"
      }
     },
     "metadata": {},
     "output_type": "display_data"
    },
    {
     "data": {
      "text/plain": "Validation: |          | 0/? [00:00<?, ?it/s]",
      "application/vnd.jupyter.widget-view+json": {
       "version_major": 2,
       "version_minor": 0,
       "model_id": "afc4f4eb13bc4344964388cfe6bf3faa"
      }
     },
     "metadata": {},
     "output_type": "display_data"
    },
    {
     "data": {
      "text/plain": "Validation: |          | 0/? [00:00<?, ?it/s]",
      "application/vnd.jupyter.widget-view+json": {
       "version_major": 2,
       "version_minor": 0,
       "model_id": "2304a86d34b64c46a3eda3c0cbd01b63"
      }
     },
     "metadata": {},
     "output_type": "display_data"
    },
    {
     "data": {
      "text/plain": "Validation: |          | 0/? [00:00<?, ?it/s]",
      "application/vnd.jupyter.widget-view+json": {
       "version_major": 2,
       "version_minor": 0,
       "model_id": "80f3467d39a24edfac1eab010dbe3ae7"
      }
     },
     "metadata": {},
     "output_type": "display_data"
    },
    {
     "data": {
      "text/plain": "Validation: |          | 0/? [00:00<?, ?it/s]",
      "application/vnd.jupyter.widget-view+json": {
       "version_major": 2,
       "version_minor": 0,
       "model_id": "4a4954ae17584e0b9b7e135745662c01"
      }
     },
     "metadata": {},
     "output_type": "display_data"
    },
    {
     "data": {
      "text/plain": "Validation: |          | 0/? [00:00<?, ?it/s]",
      "application/vnd.jupyter.widget-view+json": {
       "version_major": 2,
       "version_minor": 0,
       "model_id": "ebd93d8d542545569c2e2d306a29bd89"
      }
     },
     "metadata": {},
     "output_type": "display_data"
    },
    {
     "name": "stderr",
     "output_type": "stream",
     "text": [
      "`Trainer.fit` stopped: `max_epochs=30` reached.\n"
     ]
    }
   ],
   "source": [
    "trainer.fit(model)"
   ],
   "metadata": {
    "collapsed": false,
    "ExecuteTime": {
     "end_time": "2024-11-15T00:57:56.918547Z",
     "start_time": "2024-11-15T00:44:50.338941Z"
    }
   },
   "id": "a5cc449045b5be22",
   "execution_count": 50
  },
  {
   "cell_type": "code",
   "outputs": [
    {
     "name": "stdout",
     "output_type": "stream",
     "text": [
      "Problem 1 | Untrained Cost: 4.830 | Trained Cost: 3.592\n",
      "Problem 2 | Untrained Cost: 15.444 | Trained Cost: 14.028\n",
      "Problem 3 | Untrained Cost: 6.451 | Trained Cost: 4.617\n",
      "Problem 4 | Untrained Cost: 27.571 | Trained Cost: 4.936\n",
      "Problem 5 | Untrained Cost: 5.630 | Trained Cost: 4.304\n",
      "Problem 6 | Untrained Cost: 5.915 | Trained Cost: 4.404\n",
      "Problem 7 | Untrained Cost: 4.970 | Trained Cost: 3.891\n",
      "Problem 8 | Untrained Cost: 6.100 | Trained Cost: 3.867\n",
      "Problem 9 | Untrained Cost: 5.044 | Trained Cost: 3.904\n",
      "Problem 10 | Untrained Cost: 8.841 | Trained Cost: 6.116\n",
      "Problem 11 | Untrained Cost: 6.001 | Trained Cost: 4.208\n",
      "Problem 12 | Untrained Cost: 4.815 | Trained Cost: 3.078\n",
      "Problem 13 | Untrained Cost: 5.127 | Trained Cost: 4.073\n",
      "Problem 14 | Untrained Cost: 6.687 | Trained Cost: 4.430\n",
      "Problem 15 | Untrained Cost: 21.255 | Trained Cost: 15.939\n",
      "Problem 16 | Untrained Cost: 7.447 | Trained Cost: 3.725\n",
      "Problem 17 | Untrained Cost: 22.003 | Trained Cost: 3.648\n",
      "Problem 18 | Untrained Cost: 36.936 | Trained Cost: 4.239\n",
      "Problem 19 | Untrained Cost: 6.360 | Trained Cost: 4.988\n",
      "Problem 20 | Untrained Cost: 7.057 | Trained Cost: 5.494\n",
      "Problem 21 | Untrained Cost: 5.681 | Trained Cost: 3.295\n",
      "Problem 22 | Untrained Cost: 33.591 | Trained Cost: 4.527\n",
      "Problem 23 | Untrained Cost: 4.610 | Trained Cost: 3.720\n",
      "Problem 24 | Untrained Cost: 5.987 | Trained Cost: 4.310\n",
      "Problem 25 | Untrained Cost: 5.667 | Trained Cost: 4.115\n",
      "Problem 26 | Untrained Cost: 4.658 | Trained Cost: 2.943\n",
      "Problem 27 | Untrained Cost: 6.381 | Trained Cost: 3.965\n",
      "Problem 28 | Untrained Cost: 38.446 | Trained Cost: 13.625\n",
      "Problem 29 | Untrained Cost: 38.852 | Trained Cost: 15.269\n",
      "Problem 30 | Untrained Cost: 38.995 | Trained Cost: 5.276\n",
      "Problem 31 | Untrained Cost: 4.521 | Trained Cost: 3.645\n",
      "Problem 32 | Untrained Cost: 15.109 | Trained Cost: 14.811\n",
      "Problem 33 | Untrained Cost: 24.911 | Trained Cost: 5.212\n",
      "Problem 34 | Untrained Cost: 7.475 | Trained Cost: 4.349\n",
      "Problem 35 | Untrained Cost: 6.978 | Trained Cost: 3.851\n",
      "Problem 36 | Untrained Cost: 35.553 | Trained Cost: 5.186\n",
      "Problem 37 | Untrained Cost: 4.800 | Trained Cost: 4.046\n",
      "Problem 38 | Untrained Cost: 8.240 | Trained Cost: 4.872\n",
      "Problem 39 | Untrained Cost: 6.950 | Trained Cost: 4.264\n",
      "Problem 40 | Untrained Cost: 5.897 | Trained Cost: 4.178\n",
      "Problem 41 | Untrained Cost: 6.630 | Trained Cost: 4.382\n",
      "Problem 42 | Untrained Cost: 4.721 | Trained Cost: 3.402\n",
      "Problem 43 | Untrained Cost: 5.242 | Trained Cost: 3.198\n",
      "Problem 44 | Untrained Cost: 6.857 | Trained Cost: 6.754\n",
      "Problem 45 | Untrained Cost: 5.323 | Trained Cost: 4.067\n",
      "Problem 46 | Untrained Cost: 30.163 | Trained Cost: 4.176\n",
      "Problem 47 | Untrained Cost: 6.309 | Trained Cost: 4.312\n",
      "Problem 48 | Untrained Cost: 8.516 | Trained Cost: 5.000\n",
      "Problem 49 | Untrained Cost: 7.079 | Trained Cost: 4.328\n",
      "Problem 50 | Untrained Cost: 6.325 | Trained Cost: 3.429\n",
      "Problem 51 | Untrained Cost: 5.544 | Trained Cost: 4.633\n",
      "Problem 52 | Untrained Cost: 7.513 | Trained Cost: 5.093\n",
      "Problem 53 | Untrained Cost: 6.358 | Trained Cost: 4.599\n",
      "Problem 54 | Untrained Cost: 17.264 | Trained Cost: 13.716\n",
      "Problem 55 | Untrained Cost: 16.944 | Trained Cost: 14.223\n",
      "Problem 56 | Untrained Cost: 8.324 | Trained Cost: 5.654\n",
      "Problem 57 | Untrained Cost: 6.290 | Trained Cost: 4.489\n",
      "Problem 58 | Untrained Cost: 4.799 | Trained Cost: 3.613\n",
      "Problem 59 | Untrained Cost: 7.688 | Trained Cost: 4.201\n",
      "Problem 60 | Untrained Cost: 5.814 | Trained Cost: 4.093\n",
      "Problem 61 | Untrained Cost: 6.104 | Trained Cost: 3.938\n",
      "Problem 62 | Untrained Cost: 6.841 | Trained Cost: 3.561\n",
      "Problem 63 | Untrained Cost: 9.331 | Trained Cost: 5.522\n",
      "Problem 64 | Untrained Cost: 6.112 | Trained Cost: 5.199\n",
      "Problem 65 | Untrained Cost: 17.011 | Trained Cost: 13.904\n",
      "Problem 66 | Untrained Cost: 6.981 | Trained Cost: 4.724\n",
      "Problem 67 | Untrained Cost: 14.522 | Trained Cost: 13.615\n",
      "Problem 68 | Untrained Cost: 11.257 | Trained Cost: 6.158\n",
      "Problem 69 | Untrained Cost: 4.491 | Trained Cost: 3.569\n",
      "Problem 70 | Untrained Cost: 6.102 | Trained Cost: 3.760\n",
      "Problem 71 | Untrained Cost: 6.722 | Trained Cost: 4.576\n",
      "Problem 72 | Untrained Cost: 8.364 | Trained Cost: 6.024\n",
      "Problem 73 | Untrained Cost: 15.472 | Trained Cost: 14.434\n",
      "Problem 74 | Untrained Cost: 5.396 | Trained Cost: 4.034\n",
      "Problem 75 | Untrained Cost: 5.478 | Trained Cost: 3.168\n",
      "Problem 76 | Untrained Cost: 6.344 | Trained Cost: 4.424\n",
      "Problem 77 | Untrained Cost: 5.413 | Trained Cost: 3.775\n",
      "Problem 78 | Untrained Cost: 5.534 | Trained Cost: 5.291\n",
      "Problem 79 | Untrained Cost: 6.491 | Trained Cost: 4.751\n",
      "Problem 80 | Untrained Cost: 15.860 | Trained Cost: 15.064\n",
      "Problem 81 | Untrained Cost: 9.842 | Trained Cost: 6.027\n",
      "Problem 82 | Untrained Cost: 5.422 | Trained Cost: 3.364\n",
      "Problem 83 | Untrained Cost: 7.357 | Trained Cost: 4.948\n",
      "Problem 84 | Untrained Cost: 4.760 | Trained Cost: 4.345\n",
      "Problem 85 | Untrained Cost: 35.416 | Trained Cost: 4.664\n",
      "Problem 86 | Untrained Cost: 40.483 | Trained Cost: 14.993\n",
      "Problem 87 | Untrained Cost: 36.344 | Trained Cost: 5.185\n",
      "Problem 88 | Untrained Cost: 33.990 | Trained Cost: 4.003\n",
      "Problem 89 | Untrained Cost: 5.058 | Trained Cost: 4.913\n",
      "Problem 90 | Untrained Cost: 38.678 | Trained Cost: 4.141\n",
      "Problem 91 | Untrained Cost: 8.956 | Trained Cost: 5.207\n",
      "Problem 92 | Untrained Cost: 6.102 | Trained Cost: 4.069\n",
      "Problem 93 | Untrained Cost: 8.053 | Trained Cost: 4.918\n",
      "Problem 94 | Untrained Cost: 5.919 | Trained Cost: 6.130\n",
      "Problem 95 | Untrained Cost: 43.922 | Trained Cost: 4.428\n",
      "Problem 96 | Untrained Cost: 10.408 | Trained Cost: 5.835\n",
      "Problem 97 | Untrained Cost: 37.102 | Trained Cost: 4.238\n",
      "Problem 98 | Untrained Cost: 6.894 | Trained Cost: 4.231\n",
      "Problem 99 | Untrained Cost: 7.548 | Trained Cost: 3.756\n",
      "Problem 100 | Untrained Cost: 7.719 | Trained Cost: 4.626\n"
     ]
    }
   ],
   "source": [
    "# Greedy rollouts over trained model (same states as previous plot)\n",
    "policy = model.policy.to(device)\n",
    "out = policy(td_init.clone(), phase=\"test\", decode_type=\"greedy\", return_actions=True)\n",
    "actions_trained = out['actions'].cpu().detach()\n",
    "rewards_trained = out['reward'].cpu().detach()\n",
    "# Plotting\n",
    "import matplotlib.pyplot as plt\n",
    "for i, td in enumerate(td_init):\n",
    "    # fig, axs = plt.subplots(1,2, figsize=(11,5))\n",
    "    print(f\"Problem {i+1} | Untrained Cost: {-rewards_untrained[i]:.3f} | Trained Cost: {-rewards_trained[i]:.3f}\")\n",
    "\n",
    "    # env.render(td, actions_untrained[i], ax=axs[0])\n",
    "    # env.render(td, actions_trained[i], ax=axs[1])\n",
    "    # axs[0].set_title(f\"Untrained | Cost = {-rewards_untrained[i].item():.3f}\")\n",
    "    # axs[1].set_title(r\"Trained $\\pi_\\theta$\" + f\"| Cost = {-out['reward'][i].item():.3f}\")"
   ],
   "metadata": {
    "collapsed": false,
    "ExecuteTime": {
     "end_time": "2024-11-15T01:03:17.067215Z",
     "start_time": "2024-11-15T01:03:15.432684Z"
    }
   },
   "id": "b9576452c7df96ad",
   "execution_count": 54
  },
  {
   "cell_type": "code",
   "outputs": [],
   "source": [
    "actions_trained"
   ],
   "metadata": {
    "collapsed": false
   },
   "id": "167263cba1e49ede",
   "execution_count": null
  },
  {
   "cell_type": "code",
   "outputs": [],
   "source": [],
   "metadata": {
    "collapsed": false
   },
   "id": "38a3fd9d5c8475c9"
  }
 ],
 "metadata": {
  "kernelspec": {
   "display_name": "Python 3",
   "language": "python",
   "name": "python3"
  },
  "language_info": {
   "codemirror_mode": {
    "name": "ipython",
    "version": 2
   },
   "file_extension": ".py",
   "mimetype": "text/x-python",
   "name": "python",
   "nbconvert_exporter": "python",
   "pygments_lexer": "ipython2",
   "version": "2.7.6"
  }
 },
 "nbformat": 4,
 "nbformat_minor": 5
}
